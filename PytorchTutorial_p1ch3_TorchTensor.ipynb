{
  "cells": [
    {
      "cell_type": "markdown",
      "metadata": {
        "colab_type": "text",
        "id": "view-in-github"
      },
      "source": [
        "<a href=\"https://colab.research.google.com/github/inoueshinichi/PytorchHowTo/blob/main/PytorchTutorial_p2ch3_tensor.ipynb\" target=\"_parent\"><img src=\"https://colab.research.google.com/assets/colab-badge.svg\" alt=\"Open In Colab\"/></a>"
      ]
    },
    {
      "cell_type": "code",
      "execution_count": 1,
      "metadata": {
        "colab": {
          "base_uri": "https://localhost:8080/"
        },
        "id": "O55IPP12RwV8",
        "outputId": "47754a53-0771-4d50-b8a3-dbf13efb1874"
      },
      "outputs": [
        {
          "data": {
            "text/plain": [
              "<torch._C.Generator at 0x22f00832990>"
            ]
          },
          "execution_count": 1,
          "metadata": {},
          "output_type": "execute_result"
        }
      ],
      "source": [
        "%matplotlib inline\n",
        "from matplotlib import pyplot as plt\n",
        "import numpy as np\n",
        "import torch\n",
        "import torch.nn as nn\n",
        "import torch.nn.functional as F\n",
        "import torch.optim as optim\n",
        "torch.set_printoptions(edgeitems=2)\n",
        "torch.manual_seed(123)"
      ]
    },
    {
      "cell_type": "markdown",
      "metadata": {
        "id": "qBHRE8h7cJb9"
      },
      "source": [
        "#Pytorchにおけるテンソルの扱い方"
      ]
    },
    {
      "cell_type": "markdown",
      "metadata": {
        "id": "TUFIExtzd4MI"
      },
      "source": [
        "多次元配列としてのテンソル"
      ]
    },
    {
      "cell_type": "code",
      "execution_count": 2,
      "metadata": {
        "colab": {
          "base_uri": "https://localhost:8080/"
        },
        "id": "9jtrsMT3bFtG",
        "outputId": "3cf84d49-3b96-4ac3-8a0f-d66bccc633a5"
      },
      "outputs": [
        {
          "data": {
            "text/plain": [
              "[1.0, 2.0, 1.0]"
            ]
          },
          "execution_count": 2,
          "metadata": {},
          "output_type": "execute_result"
        }
      ],
      "source": [
        "# Python list -> Pytorch tensor\n",
        "a = [1.0, 2.0, 1.0]\n",
        "a"
      ]
    },
    {
      "cell_type": "code",
      "execution_count": 3,
      "metadata": {
        "colab": {
          "base_uri": "https://localhost:8080/"
        },
        "id": "zHLQkxQ9eFsS",
        "outputId": "0ed66141-48c2-442e-ed76-d53633726658"
      },
      "outputs": [
        {
          "data": {
            "text/plain": [
              "[1.0, 2.0, 3.0]"
            ]
          },
          "execution_count": 3,
          "metadata": {},
          "output_type": "execute_result"
        }
      ],
      "source": [
        "a[2] = 3.0\n",
        "a"
      ]
    },
    {
      "cell_type": "code",
      "execution_count": 4,
      "metadata": {
        "colab": {
          "base_uri": "https://localhost:8080/"
        },
        "id": "HPqxYTtdeNzA",
        "outputId": "f3af278f-9d8c-42e4-f889-862dd52d72d6"
      },
      "outputs": [
        {
          "data": {
            "text/plain": [
              "tensor([1., 1., 1.])"
            ]
          },
          "execution_count": 4,
          "metadata": {},
          "output_type": "execute_result"
        }
      ],
      "source": [
        "# tensor\n",
        "a = torch.ones(3)\n",
        "a"
      ]
    },
    {
      "cell_type": "code",
      "execution_count": 5,
      "metadata": {
        "colab": {
          "base_uri": "https://localhost:8080/"
        },
        "id": "-DLgNH4heeF3",
        "outputId": "7e80c06b-f538-4634-8c49-42ff6ef541f7"
      },
      "outputs": [
        {
          "data": {
            "text/plain": [
              "tensor(1.)"
            ]
          },
          "execution_count": 5,
          "metadata": {},
          "output_type": "execute_result"
        }
      ],
      "source": [
        "a[1]"
      ]
    },
    {
      "cell_type": "code",
      "execution_count": 6,
      "metadata": {
        "colab": {
          "base_uri": "https://localhost:8080/"
        },
        "id": "bYjSI8ViehqY",
        "outputId": "b8134a02-2c70-476f-8c33-f26256cd8e6b"
      },
      "outputs": [
        {
          "data": {
            "text/plain": [
              "1.0"
            ]
          },
          "execution_count": 6,
          "metadata": {},
          "output_type": "execute_result"
        }
      ],
      "source": [
        "float(a[0])"
      ]
    },
    {
      "cell_type": "code",
      "execution_count": 7,
      "metadata": {
        "colab": {
          "base_uri": "https://localhost:8080/"
        },
        "id": "AoBrp8BVekcC",
        "outputId": "155d0af9-25b1-4a0a-8f51-4f5788502209"
      },
      "outputs": [
        {
          "data": {
            "text/plain": [
              "tensor([1., 1., 2.])"
            ]
          },
          "execution_count": 7,
          "metadata": {},
          "output_type": "execute_result"
        }
      ],
      "source": [
        "a[2] = 2.0\n",
        "a"
      ]
    },
    {
      "cell_type": "markdown",
      "metadata": {
        "id": "hkI5jrsmfJhr"
      },
      "source": [
        "座標(4,1),(5,3),(2,1)を頂点とする2次元の三角形"
      ]
    },
    {
      "cell_type": "code",
      "execution_count": 8,
      "metadata": {
        "id": "gusRKJl_enyF"
      },
      "outputs": [],
      "source": [
        "points = torch.zeros(6)\n",
        "points[0] = 4.0\n",
        "points[1] = 1.0\n",
        "points[2] = 5.0\n",
        "points[3] = 3.0\n",
        "points[4] = 2.0\n",
        "points[5] = 1.0"
      ]
    },
    {
      "cell_type": "code",
      "execution_count": 9,
      "metadata": {
        "colab": {
          "base_uri": "https://localhost:8080/"
        },
        "id": "fGweB4YjfeS8",
        "outputId": "6945670a-63e7-4d00-8341-28960fb8ca74"
      },
      "outputs": [
        {
          "data": {
            "text/plain": [
              "tensor([4., 1., 5., 3., 2., 1.])"
            ]
          },
          "execution_count": 9,
          "metadata": {},
          "output_type": "execute_result"
        }
      ],
      "source": [
        "points = torch.tensor([4.,1.,5.,3.,2.,1.])\n",
        "points"
      ]
    },
    {
      "cell_type": "code",
      "execution_count": 10,
      "metadata": {
        "colab": {
          "base_uri": "https://localhost:8080/"
        },
        "id": "qJ1r90FngkeK",
        "outputId": "9c1a4fd7-4bb2-4323-d057-957bdf4a5233"
      },
      "outputs": [
        {
          "data": {
            "text/plain": [
              "(4.0, 1.0)"
            ]
          },
          "execution_count": 10,
          "metadata": {},
          "output_type": "execute_result"
        }
      ],
      "source": [
        "# 最初の点\n",
        "float(points[0]), float(points[1])"
      ]
    },
    {
      "cell_type": "markdown",
      "metadata": {
        "id": "KSxF4-2dgvxn"
      },
      "source": [
        "２次元テンソル"
      ]
    },
    {
      "cell_type": "code",
      "execution_count": 11,
      "metadata": {
        "colab": {
          "base_uri": "https://localhost:8080/"
        },
        "id": "oiGBPZGigqoT",
        "outputId": "e69cf76a-2d6c-49f9-b58f-559137d625a3"
      },
      "outputs": [
        {
          "data": {
            "text/plain": [
              "tensor([[4., 1.],\n",
              "        [5., 3.],\n",
              "        [2., 1.]])"
            ]
          },
          "execution_count": 11,
          "metadata": {},
          "output_type": "execute_result"
        }
      ],
      "source": [
        "points = torch.tensor([[4.0, 1.0], [5.0, 3.0], [2.0, 1.0]])\n",
        "points"
      ]
    },
    {
      "cell_type": "code",
      "execution_count": 12,
      "metadata": {
        "colab": {
          "base_uri": "https://localhost:8080/"
        },
        "id": "DYfeirFag7_q",
        "outputId": "501f78e5-7373-406e-e14d-e78032941e5d"
      },
      "outputs": [
        {
          "data": {
            "text/plain": [
              "torch.Size([3, 2])"
            ]
          },
          "execution_count": 12,
          "metadata": {},
          "output_type": "execute_result"
        }
      ],
      "source": [
        "# 形状\n",
        "points.shape"
      ]
    },
    {
      "cell_type": "code",
      "execution_count": 13,
      "metadata": {},
      "outputs": [
        {
          "data": {
            "text/plain": [
              "torch.Size([3, 2])"
            ]
          },
          "execution_count": 13,
          "metadata": {},
          "output_type": "execute_result"
        }
      ],
      "source": [
        "points.size()"
      ]
    },
    {
      "cell_type": "code",
      "execution_count": 14,
      "metadata": {
        "colab": {
          "base_uri": "https://localhost:8080/"
        },
        "id": "CNvy_Y2ToZcy",
        "outputId": "5c511c0c-15d1-4ab4-e80d-350e499c8886"
      },
      "outputs": [
        {
          "data": {
            "text/plain": [
              "tensor([[0., 0.],\n",
              "        [0., 0.],\n",
              "        [0., 0.]])"
            ]
          },
          "execution_count": 14,
          "metadata": {},
          "output_type": "execute_result"
        }
      ],
      "source": [
        "# zeros\n",
        "points = torch.zeros(3,2)\n",
        "points"
      ]
    },
    {
      "cell_type": "code",
      "execution_count": 15,
      "metadata": {
        "colab": {
          "base_uri": "https://localhost:8080/"
        },
        "id": "lpCzxOYmooLD",
        "outputId": "074dd4de-c65b-4a3c-c766-a337f37952da"
      },
      "outputs": [
        {
          "data": {
            "text/plain": [
              "tensor([[4., 1.],\n",
              "        [5., 3.],\n",
              "        [2., 1.]])"
            ]
          },
          "execution_count": 15,
          "metadata": {},
          "output_type": "execute_result"
        }
      ],
      "source": [
        "points = torch.tensor([[4.0, 1.0], [5.0, 3.0], [2.0, 1.0]])\n",
        "points"
      ]
    },
    {
      "cell_type": "code",
      "execution_count": 16,
      "metadata": {
        "colab": {
          "base_uri": "https://localhost:8080/"
        },
        "id": "sIkyDQvkowxb",
        "outputId": "79422bb7-35b9-4790-b7a3-4df1d84a20f7"
      },
      "outputs": [
        {
          "data": {
            "text/plain": [
              "tensor(1.)"
            ]
          },
          "execution_count": 16,
          "metadata": {},
          "output_type": "execute_result"
        }
      ],
      "source": [
        "points[0,1]"
      ]
    },
    {
      "cell_type": "code",
      "execution_count": 17,
      "metadata": {
        "colab": {
          "base_uri": "https://localhost:8080/"
        },
        "id": "iW3Y4YP0oyOc",
        "outputId": "4f40ef70-ad80-4d0d-b290-47417ab6e4e4"
      },
      "outputs": [
        {
          "data": {
            "text/plain": [
              "tensor([4., 1.])"
            ]
          },
          "execution_count": 17,
          "metadata": {},
          "output_type": "execute_result"
        }
      ],
      "source": [
        "points[0]"
      ]
    },
    {
      "cell_type": "markdown",
      "metadata": {
        "id": "AHlb6wvHpSWg"
      },
      "source": [
        "テンソルの一部指定や取り出し(Indexing)"
      ]
    },
    {
      "cell_type": "code",
      "execution_count": 18,
      "metadata": {
        "colab": {
          "base_uri": "https://localhost:8080/"
        },
        "id": "F07pnkiGo1s1",
        "outputId": "55983fe2-c74d-4f29-f3c0-b45c267c6d07"
      },
      "outputs": [
        {
          "name": "stdout",
          "output_type": "stream",
          "text": [
            "[0, 1, 2, 3, 4, 5]\n",
            "[1, 2, 3]\n",
            "[1, 2, 3, 4, 5]\n",
            "[0, 1, 2, 3]\n",
            "[0, 1, 2, 3, 4]\n",
            "[1, 3]\n"
          ]
        }
      ],
      "source": [
        "some_list = list(range(6))\n",
        "print(some_list[:]) # 全要素の指定\n",
        "print(some_list[1:4]) # 1から4の手前までを指定\n",
        "print(some_list[1:] ) # 1以降を指定\n",
        "print(some_list[:4] ) # 最初から4の手前までを指定\n",
        "print(some_list[:-1]) # 最初から最後の1つ手前までを指定\n",
        "print(some_list[1:4:2]) # 1から4の手前まで2つ置きに指定"
      ]
    },
    {
      "cell_type": "code",
      "execution_count": 19,
      "metadata": {
        "colab": {
          "base_uri": "https://localhost:8080/"
        },
        "id": "jODrdqGup-wQ",
        "outputId": "d7a7afb0-c73a-4a81-fe36-2a6d61017e2b"
      },
      "outputs": [
        {
          "name": "stdout",
          "output_type": "stream",
          "text": [
            "tensor([[5., 3.],\n",
            "        [2., 1.]])\n",
            "tensor([[5., 3.],\n",
            "        [2., 1.]])\n",
            "tensor([5., 2.])\n",
            "tensor([[[4., 1.],\n",
            "         [5., 3.],\n",
            "         [2., 1.]]])\n"
          ]
        }
      ],
      "source": [
        "print(points[1:]   )\n",
        "print(points[1:, :])\n",
        "print(points[1:, 0])\n",
        "print(points[None] )# 新たな次元を追加。unsqueezeと同じ働き"
      ]
    },
    {
      "cell_type": "markdown",
      "metadata": {
        "id": "oGa4GK09qzht"
      },
      "source": [
        "#名前付きテンソル(named tensor)"
      ]
    },
    {
      "cell_type": "code",
      "execution_count": 20,
      "metadata": {
        "id": "lHLmqMqGqaU6"
      },
      "outputs": [],
      "source": [
        "img_t = torch.randn(3,5,5) # shape [channels, rows, columns]\n",
        "weights = torch.tensor([0.2126, 0.7152, 0.0722])"
      ]
    },
    {
      "cell_type": "code",
      "execution_count": 21,
      "metadata": {
        "id": "f0fd8MIVrF2f"
      },
      "outputs": [],
      "source": [
        "batch_t = torch.randn(2,3,5,5) # shape [batch, channels, rows, columns]"
      ]
    },
    {
      "cell_type": "code",
      "execution_count": 22,
      "metadata": {
        "colab": {
          "base_uri": "https://localhost:8080/"
        },
        "id": "fpBhqWXPrQoG",
        "outputId": "3227f3d5-4e0e-40f9-c8a5-cba03a94b377"
      },
      "outputs": [
        {
          "name": "stdout",
          "output_type": "stream",
          "text": [
            "tensor([[-0.9043,  0.6406, -0.8907, -0.1443,  0.5758],\n",
            "        [ 0.0559, -0.2708, -0.8359,  0.2216, -1.4901],\n",
            "        [ 0.6648, -0.6183, -0.1255,  1.0274, -0.1120],\n",
            "        [ 0.2000,  0.8271, -0.0144,  0.3996,  0.3855],\n",
            "        [ 0.8497,  0.1914, -0.3041, -0.1335,  1.0073]])\n",
            "torch.Size([5, 5])\n",
            "tensor([[[ 0.0398,  0.4369, -0.5379, -0.8074,  0.7055],\n",
            "         [-1.1460, -0.5137, -0.5970, -0.2656,  0.2752],\n",
            "         [ 0.8712,  0.0821,  0.1365, -0.2216,  0.7509],\n",
            "         [-0.1791, -0.4473,  0.4871,  0.5644,  0.3505],\n",
            "         [ 0.4228, -0.6932, -0.6435, -0.0561, -0.2631]],\n",
            "\n",
            "        [[-0.4402,  0.1215, -1.1329, -0.4171,  0.5484],\n",
            "         [-0.8717, -0.7567, -0.7743,  0.4987,  0.5941],\n",
            "         [-0.0238, -0.2864,  0.5216,  0.5810,  0.0616],\n",
            "         [-0.5876, -1.0920, -0.2794, -0.0530,  0.3462],\n",
            "         [ 0.5591,  0.2228,  0.0349, -0.2871,  0.0204]]])\n",
            "torch.Size([2, 5, 5])\n"
          ]
        }
      ],
      "source": [
        "# 画像データは常に-3次元目にあることを想定した処理\n",
        "img_gray_naive = img_t.mean(-3) # 末尾から3つ遡った次元で平均を取る\n",
        "print(img_gray_naive)\n",
        "print(img_gray_naive.shape)\n",
        "batch_gray_naive = batch_t.mean(-3)\n",
        "print(batch_gray_naive)\n",
        "print(batch_gray_naive.shape)"
      ]
    },
    {
      "cell_type": "markdown",
      "metadata": {
        "id": "i_detSWtshvh"
      },
      "source": [
        "#Broadcasting"
      ]
    },
    {
      "cell_type": "code",
      "execution_count": 23,
      "metadata": {
        "colab": {
          "base_uri": "https://localhost:8080/"
        },
        "id": "brM2OVE9r81R",
        "outputId": "45a5872f-2f9a-4f38-8d97-dbcc05310486"
      },
      "outputs": [
        {
          "name": "stdout",
          "output_type": "stream",
          "text": [
            "torch.Size([3, 1, 1])\n",
            "torch.Size([3, 5, 5])\n",
            "torch.Size([2, 3, 5, 5])\n",
            "tensor([[-1.1595,  0.7353, -0.9738, -0.8590,  0.3829],\n",
            "        [-0.3012, -1.9156, -1.0862,  0.2704, -1.8622],\n",
            "        [ 0.9187, -0.5816, -0.6028,  0.1677, -0.6534],\n",
            "        [ 0.6473,  1.1677,  0.2565, -0.0500,  0.2756],\n",
            "        [ 0.3459,  0.3953, -0.2630,  0.5067,  1.3309]])\n",
            "tensor([[[ 0.4928, -0.0229, -1.0054, -0.5014,  1.0885],\n",
            "         [-1.1989, -0.2975, -0.7805, -1.6274,  0.2685],\n",
            "         [-0.3824,  0.4849,  0.0514, -1.0804, -0.1603],\n",
            "         [-0.4966, -0.4541,  0.6223,  0.6775,  0.7976],\n",
            "         [-0.7178, -0.6630, -0.3689, -0.4452,  0.3405]],\n",
            "\n",
            "        [[-0.1935, -0.6730, -1.7690, -0.5535,  1.2103],\n",
            "         [-1.3087, -0.2260, -0.4708,  0.0695,  0.9731],\n",
            "         [-0.2647, -0.3851, -0.3518,  0.0036,  0.3455],\n",
            "         [-0.6623, -0.9032, -0.0689,  0.1660, -0.4213],\n",
            "         [ 0.6108, -0.2813,  0.5576, -0.6227,  0.5457]]])\n"
          ]
        }
      ],
      "source": [
        "unsqueezed_weights = weights.unsqueeze(-1).unsqueeze(-1) # (3,) -> (3,1,1)\n",
        "print(unsqueezed_weights.shape)\n",
        "img_weights = (img_t * unsqueezed_weights) # (3,5,5) * (3,1,1) -> (3,5,5)\n",
        "print(img_weights.shape)\n",
        "batch_weights = (batch_t * unsqueezed_weights) # (2,3,5,5) * (3,1,1) -> (2,3,5,5)\n",
        "print(batch_weights.shape)\n",
        "\n",
        "img_gray_weighted = img_weights.sum(-3) # channelsの軸で加算\n",
        "print(img_gray_weighted)\n",
        "\n",
        "batch_gray_weighted = batch_weights.sum(-3) # channelsの軸で加算\n",
        "print(batch_gray_weighted)"
      ]
    },
    {
      "cell_type": "markdown",
      "metadata": {
        "id": "3cuU4yFeuhel"
      },
      "source": [
        "Pytorchの関数einsum(Numpyからの転用)で、上記の計算結果のテンソルの次元にインデックス名を与えるインデックス付けをする"
      ]
    },
    {
      "cell_type": "code",
      "execution_count": 24,
      "metadata": {
        "colab": {
          "base_uri": "https://localhost:8080/"
        },
        "id": "a3z6P1_2t0qf",
        "outputId": "d2259ef7-622a-4c43-fe55-78262c4e24f5"
      },
      "outputs": [
        {
          "name": "stdout",
          "output_type": "stream",
          "text": [
            "tensor([[-1.1595,  0.7353, -0.9738, -0.8590,  0.3829],\n",
            "        [-0.3012, -1.9156, -1.0862,  0.2704, -1.8622],\n",
            "        [ 0.9187, -0.5816, -0.6028,  0.1677, -0.6534],\n",
            "        [ 0.6473,  1.1677,  0.2565, -0.0500,  0.2756],\n",
            "        [ 0.3459,  0.3953, -0.2630,  0.5067,  1.3309]])\n"
          ]
        }
      ],
      "source": [
        "img_gray_weighted_fancy = torch.einsum('...chw,c->...hw', img_t, weights)\n",
        "print(img_gray_weighted_fancy)"
      ]
    },
    {
      "cell_type": "markdown",
      "metadata": {
        "id": "ctOhPntcvjtv"
      },
      "source": [
        "#名前付きテンソル (>pytorch1.3)  \n",
        "https://pytorch.org/tutorials/intermediate/named_tensor_tutorial.html  \n",
        "https://pytorch.org/docs/stable/named_tensor.html"
      ]
    },
    {
      "cell_type": "code",
      "execution_count": 25,
      "metadata": {
        "colab": {
          "base_uri": "https://localhost:8080/"
        },
        "id": "hVeMhQTNvIGw",
        "outputId": "f617ae38-7426-4f28-e30d-e3562fb28810"
      },
      "outputs": [
        {
          "name": "stderr",
          "output_type": "stream",
          "text": [
            "C:\\Users\\inoue\\AppData\\Local\\Temp\\ipykernel_21680\\2371314847.py:1: UserWarning: Named tensors and all their associated APIs are an experimental feature and subject to change. Please do not use them for anything important until they are released as stable. (Triggered internally at C:\\cb\\pytorch_1000000000000\\work\\c10/core/TensorImpl.h:1761.)\n",
            "  weights_named = torch.tensor([0.2126, 0.7152, 0.0722], names=['channels'])\n"
          ]
        },
        {
          "data": {
            "text/plain": [
              "tensor([0.2126, 0.7152, 0.0722], names=('channels',))"
            ]
          },
          "execution_count": 25,
          "metadata": {},
          "output_type": "execute_result"
        }
      ],
      "source": [
        "weights_named = torch.tensor([0.2126, 0.7152, 0.0722], names=['channels'])\n",
        "weights_named"
      ]
    },
    {
      "cell_type": "code",
      "execution_count": 26,
      "metadata": {
        "colab": {
          "base_uri": "https://localhost:8080/"
        },
        "id": "gIInA6KPwcoK",
        "outputId": "225f6315-2258-4646-8340-abd4b2ad62a0"
      },
      "outputs": [
        {
          "data": {
            "text/plain": [
              "tensor([[[ 0.1411, -1.3354, -2.9340,  0.1141, -1.2072],\n",
              "         [-0.3008,  0.1427, -0.9592, -0.4919, -2.1429],\n",
              "         [ 0.9488, -0.5684, -0.0646,  0.6647, -2.7836],\n",
              "         [-1.4483,  0.9089,  0.9494,  0.0266, -0.9221],\n",
              "         [ 0.7034, -0.3659, -0.1965,  1.7250,  0.3154]],\n",
              "\n",
              "        [[-0.0217,  0.3441,  0.2271, -0.4597, -0.6183],\n",
              "         [ 0.2461,  1.2119, -0.8368,  1.2277, -0.4297],\n",
              "         [-2.2121, -0.3780,  0.9838, -1.0895, -0.6378],\n",
              "         [ 0.0221, -1.7753, -0.7490,  0.2781, -0.9621],\n",
              "         [-0.4223, -1.1036,  0.8398,  1.4549, -0.2835]],\n",
              "\n",
              "        [[-0.3767, -0.0306, -0.0894, -0.1965, -0.9713],\n",
              "         [ 0.2790, -0.2523,  1.0669, -0.2985, -0.7259],\n",
              "         [ 0.7346, -0.0845,  1.0757,  0.6367, -0.1943],\n",
              "         [-0.8614,  0.5338,  0.3940, -2.0565,  1.1062],\n",
              "         [ 0.4562,  0.0144, -0.6411,  2.3902, -1.4256]]],\n",
              "       names=('C', 'H', 'W'))"
            ]
          },
          "execution_count": 26,
          "metadata": {},
          "output_type": "execute_result"
        }
      ],
      "source": [
        "img_named = torch.randn(3,5,5, names=['C','H','W'])\n",
        "img_named"
      ]
    },
    {
      "cell_type": "markdown",
      "metadata": {
        "id": "ONaxV-i2w8me"
      },
      "source": [
        "すでにテンソルが存在し、名前を追加したい場合、そのテンソルに対してrefine_namesメソッドを使用する.  \n",
        "renameメソッドを使用すると、既存の名前を上書きしたり、(Noneを指定して)削除出来る"
      ]
    },
    {
      "cell_type": "code",
      "execution_count": 27,
      "metadata": {
        "colab": {
          "base_uri": "https://localhost:8080/"
        },
        "id": "1UdZ1amYwufk",
        "outputId": "06389db9-cf3c-4693-8d53-538721de93af"
      },
      "outputs": [
        {
          "name": "stdout",
          "output_type": "stream",
          "text": [
            "img named:  torch.Size([3, 5, 5]) ('channels', 'rows', 'columns')\n",
            "batch named:  torch.Size([2, 3, 5, 5]) (None, 'channels', 'rows', 'columns')\n"
          ]
        }
      ],
      "source": [
        "img_named = img_t.refine_names(..., 'channels', 'rows', 'columns')\n",
        "batch_named = batch_t.refine_names(..., 'channels', 'rows', 'columns')\n",
        "print('img named: ', img_named.shape, img_named.names)\n",
        "print('batch named: ', batch_named.shape, batch_named.names)"
      ]
    },
    {
      "cell_type": "markdown",
      "metadata": {
        "id": "0QdHWb7vyD4u"
      },
      "source": [
        "名前付きテンソルのブロードキャストには, aline_asメソッドを使って次元数の増減で演算操作に整合性をもたせる"
      ]
    },
    {
      "cell_type": "code",
      "execution_count": 28,
      "metadata": {
        "colab": {
          "base_uri": "https://localhost:8080/"
        },
        "id": "iPcfhW4oxwBV",
        "outputId": "971e7415-9c8c-4a0c-f02a-91f57f019fb3"
      },
      "outputs": [
        {
          "data": {
            "text/plain": [
              "(torch.Size([3]), torch.Size([3, 1, 1]), ('channels', 'rows', 'columns'))"
            ]
          },
          "execution_count": 28,
          "metadata": {},
          "output_type": "execute_result"
        }
      ],
      "source": [
        "weights_aligned = weights_named.align_as(img_named) # 名前が継承される\n",
        "weights_named.shape, weights_aligned.shape, weights_aligned.names"
      ]
    },
    {
      "cell_type": "markdown",
      "metadata": {
        "id": "iXYxX1UjzaZt"
      },
      "source": [
        "関数sumのように次元の引数を持つ関数は、次元の名前でも演算する次元を指定可能"
      ]
    },
    {
      "cell_type": "code",
      "execution_count": 29,
      "metadata": {
        "colab": {
          "base_uri": "https://localhost:8080/"
        },
        "id": "VXRHonCzydAu",
        "outputId": "951431dc-92c6-4a00-855a-f279cda04c8b"
      },
      "outputs": [
        {
          "data": {
            "text/plain": [
              "(torch.Size([5, 5]), ('rows', 'columns'))"
            ]
          },
          "execution_count": 29,
          "metadata": {},
          "output_type": "execute_result"
        }
      ],
      "source": [
        "gray_named = (img_named * weights_aligned).sum('channels')\n",
        "gray_named.shape, gray_named.names"
      ]
    },
    {
      "cell_type": "markdown",
      "metadata": {
        "id": "I9WzgsL8zq1I"
      },
      "source": [
        "異なる名前の次元を結合しようとするとエラーが発生する"
      ]
    },
    {
      "cell_type": "code",
      "execution_count": 30,
      "metadata": {
        "colab": {
          "base_uri": "https://localhost:8080/",
          "height": 187
        },
        "id": "BOPU82jvsNml",
        "outputId": "169a0a49-a0d8-4d77-c252-8854b976533a"
      },
      "outputs": [
        {
          "ename": "RuntimeError",
          "evalue": "Error when attempting to broadcast dims ['channels', 'rows', 'columns'] and dims ['channels']: dim 'columns' and dim 'channels' are at the same position from the right but do not match.",
          "output_type": "error",
          "traceback": [
            "\u001b[1;31m---------------------------------------------------------------------------\u001b[0m",
            "\u001b[1;31mRuntimeError\u001b[0m                              Traceback (most recent call last)",
            "Cell \u001b[1;32mIn[30], line 1\u001b[0m\n\u001b[1;32m----> 1\u001b[0m gray_named \u001b[39m=\u001b[39m (img_named[\u001b[39m.\u001b[39;49m\u001b[39m.\u001b[39;49m\u001b[39m.\u001b[39;49m, :\u001b[39m3\u001b[39;49m] \u001b[39m*\u001b[39;49m weights_named)\u001b[39m.\u001b[39msum(\u001b[39m'\u001b[39m\u001b[39mchannels\u001b[39m\u001b[39m'\u001b[39m)\n",
            "\u001b[1;31mRuntimeError\u001b[0m: Error when attempting to broadcast dims ['channels', 'rows', 'columns'] and dims ['channels']: dim 'columns' and dim 'channels' are at the same position from the right but do not match."
          ]
        }
      ],
      "source": [
        "gray_named = (img_named[..., :3] * weights_named).sum('channels')"
      ]
    },
    {
      "cell_type": "markdown",
      "metadata": {
        "id": "z8kK51sjsbUQ"
      },
      "source": [
        "名前付きテンソルを操作する関数の外で使いたい場合、名前をNoneにリネームして名前を削除する必要がある"
      ]
    },
    {
      "cell_type": "code",
      "execution_count": 31,
      "metadata": {
        "colab": {
          "base_uri": "https://localhost:8080/"
        },
        "id": "zH_AaCIKtMrb",
        "outputId": "4e902066-bd4e-4937-8b4f-046659e7017a"
      },
      "outputs": [
        {
          "data": {
            "text/plain": [
              "(torch.Size([5, 5]), (None, None))"
            ]
          },
          "execution_count": 31,
          "metadata": {},
          "output_type": "execute_result"
        }
      ],
      "source": [
        "gray_plain = gray_named.rename(None)\n",
        "gray_plain.shape, gray_plain.names"
      ]
    },
    {
      "cell_type": "markdown",
      "metadata": {
        "id": "3s4Gb-_2tUJ4"
      },
      "source": [
        "#テンソルのdtype属性の管理"
      ]
    },
    {
      "cell_type": "code",
      "execution_count": 32,
      "metadata": {
        "colab": {
          "base_uri": "https://localhost:8080/"
        },
        "id": "qfNvdqk6vXt6",
        "outputId": "f034b2a1-3f44-4114-ad47-f720377b88f4"
      },
      "outputs": [
        {
          "name": "stdout",
          "output_type": "stream",
          "text": [
            "tensor([[1., 1.],\n",
            "        [1., 1.],\n",
            "        [1., 1.],\n",
            "        [1., 1.],\n",
            "        [1., 1.],\n",
            "        [1., 1.],\n",
            "        [1., 1.],\n",
            "        [1., 1.],\n",
            "        [1., 1.],\n",
            "        [1., 1.]], dtype=torch.float64)\n",
            "tensor([[1, 2],\n",
            "        [3, 4]], dtype=torch.int16)\n"
          ]
        }
      ],
      "source": [
        "double_points = torch.ones(10, 2, dtype=torch.double)\n",
        "print(double_points)\n",
        "short_points = torch.tensor([[1,2],[3,4]], dtype=torch.short)\n",
        "print(short_points)"
      ]
    },
    {
      "cell_type": "code",
      "execution_count": 33,
      "metadata": {
        "colab": {
          "base_uri": "https://localhost:8080/"
        },
        "id": "SSpGODFEwugq",
        "outputId": "d3aedef3-cac5-46ba-9f49-dcc70554b09f"
      },
      "outputs": [
        {
          "data": {
            "text/plain": [
              "torch.int16"
            ]
          },
          "execution_count": 33,
          "metadata": {},
          "output_type": "execute_result"
        }
      ],
      "source": [
        "short_points.dtype"
      ]
    },
    {
      "cell_type": "code",
      "execution_count": 34,
      "metadata": {
        "id": "V7KTkGwFw2Ro"
      },
      "outputs": [],
      "source": [
        "double_points = torch.zeros(10, 2).double()\n",
        "short_points = torch.ones(10, 2).short()"
      ]
    },
    {
      "cell_type": "markdown",
      "metadata": {
        "id": "-10HVtaYxD9p"
      },
      "source": [
        "to関数を使用することもできる(便利)"
      ]
    },
    {
      "cell_type": "code",
      "execution_count": 35,
      "metadata": {
        "id": "HBXGtUY3xI42"
      },
      "outputs": [],
      "source": [
        "double_points = torch.zeros(10, 2).to(torch.double)\n",
        "short_points = torch.ones(10, 2).to(dtype=torch.short)"
      ]
    },
    {
      "cell_type": "markdown",
      "metadata": {
        "id": "JopyUYm6xRh-"
      },
      "source": [
        "演算で入力型が混合する場合、入力は自動的に大きい方の型に変換されます。\n",
        "したがって、３２bitで計算をしたい場合、すべての入力が最大でも32bitであることを確認する必要がある"
      ]
    },
    {
      "cell_type": "code",
      "execution_count": 36,
      "metadata": {
        "colab": {
          "base_uri": "https://localhost:8080/"
        },
        "id": "TkwZ3e4ryLpC",
        "outputId": "1477763a-175d-43e0-a448-5c80eff7af83"
      },
      "outputs": [
        {
          "name": "stdout",
          "output_type": "stream",
          "text": [
            "points_64 tensor([0.4172, 0.4367, 0.4856, 0.4751, 0.9276], dtype=torch.float64)\n",
            "points_short tensor([0, 0, 0, 0, 0], dtype=torch.int16)\n"
          ]
        },
        {
          "data": {
            "text/plain": [
              "tensor([0., 0., 0., 0., 0.], dtype=torch.float64)"
            ]
          },
          "execution_count": 36,
          "metadata": {},
          "output_type": "execute_result"
        }
      ],
      "source": [
        "points_64 = torch.rand(5, dtype=torch.double) # randは0-1の乱数を生成\n",
        "print(\"points_64\", points_64)\n",
        "\n",
        "points_short = points_64.to(torch.short)\n",
        "print(\"points_short\", points_short)\n",
        "\n",
        "points_64 * points_short # PyTorch 1.3以降で動作する -> 自動で範囲の広い型にキャストされる"
      ]
    },
    {
      "cell_type": "markdown",
      "metadata": {
        "id": "rzU1L2JaydfL"
      },
      "source": [
        "#テンソルに対するAPI（演算操作)"
      ]
    },
    {
      "cell_type": "markdown",
      "metadata": {
        "id": "sn8P4sxuywTI"
      },
      "source": [
        "演算操作の大部分はtorchモジュールで利用可能"
      ]
    },
    {
      "cell_type": "code",
      "execution_count": 37,
      "metadata": {
        "colab": {
          "base_uri": "https://localhost:8080/"
        },
        "id": "tSQtOZuqzL9t",
        "outputId": "df574fff-e181-4925-d1ad-2d5161cb1a43"
      },
      "outputs": [
        {
          "name": "stdout",
          "output_type": "stream",
          "text": [
            "a tensor([[1., 1.],\n",
            "        [1., 1.],\n",
            "        [1., 1.]])\n",
            "torch.Size([3, 2]) torch.Size([2, 3])\n",
            "a_t tensor([[1., 1., 1.],\n",
            "        [1., 1., 1.]])\n"
          ]
        }
      ],
      "source": [
        "# transpose\n",
        "a = torch.ones(3,2)\n",
        "print('a', a)\n",
        "a_t = torch.transpose(a, 0, 1)\n",
        "print(a.shape, a_t.shape)\n",
        "print('a_t', a_t)"
      ]
    },
    {
      "cell_type": "code",
      "execution_count": 38,
      "metadata": {
        "colab": {
          "base_uri": "https://localhost:8080/"
        },
        "id": "PE90cYjCzVlD",
        "outputId": "fb3fb5f6-159b-4354-b0b0-86bf42b165ae"
      },
      "outputs": [
        {
          "data": {
            "text/plain": [
              "(torch.Size([3, 2]), torch.Size([2, 3]))"
            ]
          },
          "execution_count": 38,
          "metadata": {},
          "output_type": "execute_result"
        }
      ],
      "source": [
        "# テンソルオブジェクト自体の関数としても書ける\n",
        "a = torch.ones(3,2)\n",
        "a_t = a.transpose(0, 1)\n",
        "a.shape, a_t.shape"
      ]
    },
    {
      "cell_type": "markdown",
      "metadata": {
        "id": "_OYX8-zBzh5K"
      },
      "source": [
        "#テンソルの格納状態"
      ]
    },
    {
      "cell_type": "markdown",
      "metadata": {
        "id": "Ipyc-6L62AVe"
      },
      "source": [
        "ストレージへのインデックス化"
      ]
    },
    {
      "cell_type": "code",
      "execution_count": 39,
      "metadata": {
        "colab": {
          "base_uri": "https://localhost:8080/"
        },
        "id": "jzDBedwt2FBj",
        "outputId": "f3b92588-380a-49c6-f788-d81099b652ad"
      },
      "outputs": [
        {
          "name": "stdout",
          "output_type": "stream",
          "text": [
            "tensor([[4., 1.],\n",
            "        [5., 3.],\n",
            "        [2., 1.]])\n"
          ]
        },
        {
          "data": {
            "text/plain": [
              " 4.0\n",
              " 1.0\n",
              " 5.0\n",
              " 3.0\n",
              " 2.0\n",
              " 1.0\n",
              "[torch.storage.TypedStorage(dtype=torch.float32, device=cpu) of size 6]"
            ]
          },
          "execution_count": 39,
          "metadata": {},
          "output_type": "execute_result"
        }
      ],
      "source": [
        "# 与えられたテンソルのストレージは、.storageプロパティを使ってアクセス出来る\n",
        "points = torch.tensor([[4.0, 1.0], [5.0, 3.0], [2.0, 1.0]])\n",
        "print(points)\n",
        "points.storage()"
      ]
    },
    {
      "cell_type": "code",
      "execution_count": 40,
      "metadata": {
        "colab": {
          "base_uri": "https://localhost:8080/"
        },
        "id": "cAoEMvb02UbN",
        "outputId": "88be60e6-7611-4122-dde4-692511cd4c0b"
      },
      "outputs": [
        {
          "data": {
            "text/plain": [
              "(4.0, 1.0)"
            ]
          },
          "execution_count": 40,
          "metadata": {},
          "output_type": "execute_result"
        }
      ],
      "source": [
        "# 手動でストレージにインデックスしてアクセス出来る\n",
        "points_storage = points.storage()\n",
        "points_storage[0], points_storage[1]"
      ]
    },
    {
      "cell_type": "code",
      "execution_count": 41,
      "metadata": {
        "colab": {
          "base_uri": "https://localhost:8080/"
        },
        "id": "OgUFsYmE2pFD",
        "outputId": "532b99b6-c251-4c18-a7ab-07c9b69df7ef"
      },
      "outputs": [
        {
          "data": {
            "text/plain": [
              "tensor([[2., 1.],\n",
              "        [5., 3.],\n",
              "        [2., 1.]])"
            ]
          },
          "execution_count": 41,
          "metadata": {},
          "output_type": "execute_result"
        }
      ],
      "source": [
        "# ストレージの値を変更すると、それを参照しているテンソルの内容も変更される\n",
        "points.storage()[0] = 2.0\n",
        "points"
      ]
    },
    {
      "cell_type": "markdown",
      "metadata": {
        "id": "vQYgMD4425bt"
      },
      "source": [
        "保存された値の変更, インプレース操作 -> 〇〇_()"
      ]
    },
    {
      "cell_type": "code",
      "execution_count": 42,
      "metadata": {
        "id": "7HlRtdVX3QKf"
      },
      "outputs": [],
      "source": [
        "a = torch.ones(3,2)"
      ]
    },
    {
      "cell_type": "code",
      "execution_count": 43,
      "metadata": {
        "colab": {
          "base_uri": "https://localhost:8080/"
        },
        "id": "w1QJXtca3Umg",
        "outputId": "eadc7ee8-662d-47e2-8abb-2c199ddb058a"
      },
      "outputs": [
        {
          "data": {
            "text/plain": [
              "tensor([[0., 0.],\n",
              "        [0., 0.],\n",
              "        [0., 0.]])"
            ]
          },
          "execution_count": 43,
          "metadata": {},
          "output_type": "execute_result"
        }
      ],
      "source": [
        "a.zero_()\n",
        "a"
      ]
    },
    {
      "cell_type": "markdown",
      "metadata": {
        "id": "nmfFQtyu3WAR"
      },
      "source": [
        "#テンソルのメタ情報(サイズ、オフセット、ストライド)"
      ]
    },
    {
      "cell_type": "markdown",
      "metadata": {
        "id": "RuCVbAGd4ggS"
      },
      "source": [
        "テンソルとストレージの表示関係"
      ]
    },
    {
      "cell_type": "code",
      "execution_count": 44,
      "metadata": {
        "colab": {
          "base_uri": "https://localhost:8080/"
        },
        "id": "zYNX6V2_4kFy",
        "outputId": "d2ec3e02-5224-4a9e-e59e-ff296fe43023"
      },
      "outputs": [
        {
          "name": "stdout",
          "output_type": "stream",
          "text": [
            "2\n",
            "4\n"
          ]
        }
      ],
      "source": [
        "points = torch.tensor([[4.0, 1.0], [5.0, 3.0], [2.0, 1.0]])\n",
        "second_point = points[1]\n",
        "print(second_point.storage_offset())\n",
        "third_point = points[2]\n",
        "print(third_point.storage_offset())"
      ]
    },
    {
      "cell_type": "code",
      "execution_count": 45,
      "metadata": {
        "colab": {
          "base_uri": "https://localhost:8080/"
        },
        "id": "iCgHNxR44uzz",
        "outputId": "6764adcb-dd27-4a04-b022-6f9d4c3ec6c3"
      },
      "outputs": [
        {
          "data": {
            "text/plain": [
              "torch.Size([2])"
            ]
          },
          "execution_count": 45,
          "metadata": {},
          "output_type": "execute_result"
        }
      ],
      "source": [
        "second_point.size()"
      ]
    },
    {
      "cell_type": "code",
      "execution_count": 46,
      "metadata": {
        "colab": {
          "base_uri": "https://localhost:8080/"
        },
        "id": "cS68OQu-4xzD",
        "outputId": "52c3e4f6-a60c-4305-8e81-e023072e4e11"
      },
      "outputs": [
        {
          "name": "stdout",
          "output_type": "stream",
          "text": [
            "torch.Size([2])\n",
            "tensor([5., 3.])\n"
          ]
        }
      ],
      "source": [
        "print(second_point.shape)\n",
        "print(second_point)"
      ]
    },
    {
      "cell_type": "code",
      "execution_count": 47,
      "metadata": {
        "colab": {
          "base_uri": "https://localhost:8080/"
        },
        "id": "DEeOIOUo49cm",
        "outputId": "4d4a1dd6-f895-422f-98aa-70fcadea7d01"
      },
      "outputs": [
        {
          "data": {
            "text/plain": [
              "(2, 1)"
            ]
          },
          "execution_count": 47,
          "metadata": {},
          "output_type": "execute_result"
        }
      ],
      "source": [
        "points.stride()"
      ]
    },
    {
      "cell_type": "code",
      "execution_count": 48,
      "metadata": {
        "colab": {
          "base_uri": "https://localhost:8080/"
        },
        "id": "47kZAkw4x0cl",
        "outputId": "98a53df9-f58e-432e-aa32-7d5b86f1368d"
      },
      "outputs": [
        {
          "data": {
            "text/plain": [
              "torch.Size([2])"
            ]
          },
          "execution_count": 48,
          "metadata": {},
          "output_type": "execute_result"
        }
      ],
      "source": [
        "second_point.shape"
      ]
    },
    {
      "cell_type": "code",
      "execution_count": 49,
      "metadata": {
        "colab": {
          "base_uri": "https://localhost:8080/"
        },
        "id": "xplhQ4QJx0hR",
        "outputId": "26ca3dd7-00ee-4b70-b055-638f28db82af"
      },
      "outputs": [
        {
          "data": {
            "text/plain": [
              "(1,)"
            ]
          },
          "execution_count": 49,
          "metadata": {},
          "output_type": "execute_result"
        }
      ],
      "source": [
        "second_point.stride()"
      ]
    },
    {
      "cell_type": "markdown",
      "metadata": {
        "id": "I0byoypU5vKP"
      },
      "source": [
        "(i,j)アクセス -> storage_offset + stride[0] * i + stride[1] * j  \n",
        "通常storage_offsetはゼロ"
      ]
    },
    {
      "cell_type": "code",
      "execution_count": 50,
      "metadata": {
        "colab": {
          "base_uri": "https://localhost:8080/"
        },
        "id": "DOSqeXNI5Fo1",
        "outputId": "bb7aa2c6-afaf-43b1-e0f1-f8fa9f8bb16e"
      },
      "outputs": [
        {
          "data": {
            "text/plain": [
              "torch.Size([2])"
            ]
          },
          "execution_count": 50,
          "metadata": {},
          "output_type": "execute_result"
        }
      ],
      "source": [
        "# テンソルが、より大きなテンソルを保持するために作成されたストレージのビューである場合、オフセットが正の値になる\n",
        "second_point = points[1]\n",
        "second_point.size()"
      ]
    },
    {
      "cell_type": "code",
      "execution_count": 51,
      "metadata": {
        "colab": {
          "base_uri": "https://localhost:8080/"
        },
        "id": "ViPCNxVH6V-W",
        "outputId": "285c4a95-059a-4ae1-88ed-422aecc4e94e"
      },
      "outputs": [
        {
          "data": {
            "text/plain": [
              "2"
            ]
          },
          "execution_count": 51,
          "metadata": {},
          "output_type": "execute_result"
        }
      ],
      "source": [
        "second_point.storage_offset()"
      ]
    },
    {
      "cell_type": "code",
      "execution_count": 52,
      "metadata": {
        "colab": {
          "base_uri": "https://localhost:8080/"
        },
        "id": "ZGadX9g-6Y9f",
        "outputId": "1e569a94-ad2e-4ced-8c76-9134c069c7d2"
      },
      "outputs": [
        {
          "data": {
            "text/plain": [
              "(1,)"
            ]
          },
          "execution_count": 52,
          "metadata": {},
          "output_type": "execute_result"
        }
      ],
      "source": [
        "second_point.stride()"
      ]
    },
    {
      "cell_type": "markdown",
      "metadata": {
        "id": "GuNwl0fr6bEr"
      },
      "source": [
        "サブテンソルを変更すると元のテンソルに副作用がでることを意味する"
      ]
    },
    {
      "cell_type": "code",
      "execution_count": 53,
      "metadata": {
        "colab": {
          "base_uri": "https://localhost:8080/"
        },
        "id": "6vRKWwyU6n3B",
        "outputId": "96a5aa84-5d2b-4d44-ed75-26dde42f491a"
      },
      "outputs": [
        {
          "name": "stdout",
          "output_type": "stream",
          "text": [
            "second_point tensor([5., 3.])\n"
          ]
        },
        {
          "data": {
            "text/plain": [
              "tensor([[ 4.,  1.],\n",
              "        [10.,  3.],\n",
              "        [ 2.,  1.]])"
            ]
          },
          "execution_count": 53,
          "metadata": {},
          "output_type": "execute_result"
        }
      ],
      "source": [
        "points = torch.tensor([[4.0, 1.0], [5.0, 3.0], [2.0, 1.0]])\n",
        "second_point = points[1]\n",
        "print(\"second_point\", second_point)\n",
        "second_point[0] = 10.0\n",
        "points # 副作用"
      ]
    },
    {
      "cell_type": "markdown",
      "metadata": {
        "id": "ySaxi69a60Rk"
      },
      "source": [
        "クローン(コピーによる)サブテンソルの作成"
      ]
    },
    {
      "cell_type": "code",
      "execution_count": 54,
      "metadata": {
        "colab": {
          "base_uri": "https://localhost:8080/"
        },
        "id": "MVWVIGVH67yf",
        "outputId": "704d5475-81f7-474f-93ee-bc4bf7fd7a3a"
      },
      "outputs": [
        {
          "data": {
            "text/plain": [
              "tensor([[4., 1.],\n",
              "        [5., 3.],\n",
              "        [2., 1.]])"
            ]
          },
          "execution_count": 54,
          "metadata": {},
          "output_type": "execute_result"
        }
      ],
      "source": [
        "points = torch.tensor([[4.0, 1.0], [5.0, 3.0], [2.0, 1.0]])\n",
        "clone_second_point = points[1].clone()\n",
        "second_point[0] = 10.0\n",
        "points # 副作用なし"
      ]
    },
    {
      "cell_type": "markdown",
      "metadata": {
        "id": "MgraeBtl7Ih7"
      },
      "source": [
        "コピーせずに転置する"
      ]
    },
    {
      "cell_type": "code",
      "execution_count": 55,
      "metadata": {
        "colab": {
          "base_uri": "https://localhost:8080/"
        },
        "id": "_YIfCP3g7bBr",
        "outputId": "1c480f09-a837-47fa-90ba-0b340665a118"
      },
      "outputs": [
        {
          "data": {
            "text/plain": [
              "tensor([[4., 1.],\n",
              "        [5., 3.],\n",
              "        [2., 1.]])"
            ]
          },
          "execution_count": 55,
          "metadata": {},
          "output_type": "execute_result"
        }
      ],
      "source": [
        "points = torch.tensor([[4.0, 1.0], [5.0, 3.0], [2.0, 1.0]])\n",
        "points"
      ]
    },
    {
      "cell_type": "code",
      "execution_count": 56,
      "metadata": {
        "colab": {
          "base_uri": "https://localhost:8080/"
        },
        "id": "Q990_Bgn7ev4",
        "outputId": "0ac714c4-b257-46ab-ad45-87c228cb2fd5"
      },
      "outputs": [
        {
          "data": {
            "text/plain": [
              "tensor([[4., 5., 2.],\n",
              "        [1., 3., 1.]])"
            ]
          },
          "execution_count": 56,
          "metadata": {},
          "output_type": "execute_result"
        }
      ],
      "source": [
        "points_t = points.t()\n",
        "points_t"
      ]
    },
    {
      "cell_type": "markdown",
      "metadata": {
        "id": "2hFp7dT4zfrg"
      },
      "source": [
        "転置前と転置後のストレージが同じ場所を指している(共有している)状態のチェックセル"
      ]
    },
    {
      "cell_type": "code",
      "execution_count": 57,
      "metadata": {
        "colab": {
          "base_uri": "https://localhost:8080/"
        },
        "id": "jnXbFhKm7igv",
        "outputId": "abeb7187-775a-4936-ec12-95cce590f257"
      },
      "outputs": [
        {
          "data": {
            "text/plain": [
              "True"
            ]
          },
          "execution_count": 57,
          "metadata": {},
          "output_type": "execute_result"
        }
      ],
      "source": [
        "id(points.storage()) == id(points_t.storage())"
      ]
    },
    {
      "cell_type": "markdown",
      "metadata": {
        "id": "0BEjQYTBy_IP"
      },
      "source": [
        "shapeやstrideが異なるだけ"
      ]
    },
    {
      "cell_type": "code",
      "execution_count": 58,
      "metadata": {
        "colab": {
          "base_uri": "https://localhost:8080/"
        },
        "id": "dD2S25UvzyqS",
        "outputId": "d6dcfd36-f6a1-4c0b-a291-cc528d493b61"
      },
      "outputs": [
        {
          "data": {
            "text/plain": [
              "(2, 1)"
            ]
          },
          "execution_count": 58,
          "metadata": {},
          "output_type": "execute_result"
        }
      ],
      "source": [
        "points.stride()"
      ]
    },
    {
      "cell_type": "code",
      "execution_count": 59,
      "metadata": {
        "colab": {
          "base_uri": "https://localhost:8080/"
        },
        "id": "Son1B3VZz5nn",
        "outputId": "c2c995d5-c185-4186-e8f4-f54cd7c5fb66"
      },
      "outputs": [
        {
          "data": {
            "text/plain": [
              "(1, 2)"
            ]
          },
          "execution_count": 59,
          "metadata": {},
          "output_type": "execute_result"
        }
      ],
      "source": [
        "points_t.stride()"
      ]
    },
    {
      "cell_type": "markdown",
      "metadata": {
        "id": "FAbSUfh_z75p"
      },
      "source": [
        "転置しても新しいメモリが割り当てられるわけでなない! stride(3,1) - .T -> stride(1,3) でストライドも転置する\n"
      ]
    },
    {
      "cell_type": "code",
      "execution_count": 60,
      "metadata": {
        "colab": {
          "base_uri": "https://localhost:8080/"
        },
        "id": "fa9Ly_SH2DWi",
        "outputId": "b4c6d5d7-05ab-4d63-fd09-93c850ff968f"
      },
      "outputs": [
        {
          "name": "stdout",
          "output_type": "stream",
          "text": [
            "ori tensor([[3, 1, 2],\n",
            "        [4, 1, 1]], dtype=torch.int32)\n",
            "ori.stride (3, 1)\n"
          ]
        }
      ],
      "source": [
        "ori = torch.tensor([[3,1,2],[4,1,1]], dtype=torch.int32)\n",
        "print(\"ori\", ori)\n",
        "print(\"ori.stride\", ori.stride())"
      ]
    },
    {
      "cell_type": "code",
      "execution_count": 61,
      "metadata": {
        "colab": {
          "base_uri": "https://localhost:8080/"
        },
        "id": "WyoPo_Gp2UxT",
        "outputId": "f27bf6a5-88f9-40e1-de49-63405c5c4358"
      },
      "outputs": [
        {
          "name": "stdout",
          "output_type": "stream",
          "text": [
            "ori.T tensor([[3, 4],\n",
            "        [1, 1],\n",
            "        [2, 1]], dtype=torch.int32)\n",
            "ori.T.stride (1, 3)\n"
          ]
        }
      ],
      "source": [
        "ori_t = ori.T\n",
        "print(\"ori.T\", ori_t)\n",
        "print(\"ori.T.stride\", ori_t.stride()) # ストライドも転置している -> 新しいストレージが割り当てられるわけでない"
      ]
    },
    {
      "cell_type": "markdown",
      "metadata": {
        "id": "WH_PDDLj2oK0"
      },
      "source": [
        "### 高次元での転置"
      ]
    },
    {
      "cell_type": "markdown",
      "metadata": {
        "id": "A1zQPkEk28W7"
      },
      "source": [
        "多次元配列を転置するには、形状とストライドの反転を行う2次元を指定する"
      ]
    },
    {
      "cell_type": "code",
      "execution_count": 62,
      "metadata": {
        "colab": {
          "base_uri": "https://localhost:8080/"
        },
        "id": "PjeKT5Hg3R6A",
        "outputId": "af2f5c18-2f04-4da2-8be7-22b3fa73a731"
      },
      "outputs": [
        {
          "name": "stdout",
          "output_type": "stream",
          "text": [
            "some_t.shape torch.Size([3, 4, 5])\n",
            "transpose_t.shape torch.Size([5, 4, 3])\n"
          ]
        }
      ],
      "source": [
        "some_t = torch.ones(3,4,5)\n",
        "transpose_t = some_t.transpose(0,2)\n",
        "print(\"some_t.shape\", some_t.shape)\n",
        "print(\"transpose_t.shape\", transpose_t.shape)"
      ]
    },
    {
      "cell_type": "code",
      "execution_count": 63,
      "metadata": {
        "colab": {
          "base_uri": "https://localhost:8080/"
        },
        "id": "hcLmaPAU3d-v",
        "outputId": "a281641c-d84b-40f6-af64-b7601e1c7a1c"
      },
      "outputs": [
        {
          "name": "stdout",
          "output_type": "stream",
          "text": [
            "some_t.stride (20, 5, 1)\n",
            "transpose_t.stride (1, 5, 20)\n"
          ]
        }
      ],
      "source": [
        "print(\"some_t.stride\", some_t.stride())\n",
        "print(\"transpose_t.stride\", transpose_t.stride())"
      ]
    },
    {
      "cell_type": "markdown",
      "metadata": {
        "id": "VEkJQGXY3s-3"
      },
      "source": [
        "### 連続配置したテンソル"
      ]
    },
    {
      "cell_type": "code",
      "execution_count": 64,
      "metadata": {
        "id": "AglGzxo6qpLn"
      },
      "outputs": [],
      "source": [
        "points = torch.tensor([[4.0, 1.0], [5.0, 3.0], [2.0, 1.0]])"
      ]
    },
    {
      "cell_type": "code",
      "execution_count": 65,
      "metadata": {
        "colab": {
          "base_uri": "https://localhost:8080/"
        },
        "id": "9wbX5ucnq82M",
        "outputId": "a6f99731-2031-4b8a-b280-20272fd00127"
      },
      "outputs": [
        {
          "data": {
            "text/plain": [
              "True"
            ]
          },
          "execution_count": 65,
          "metadata": {},
          "output_type": "execute_result"
        }
      ],
      "source": [
        "points.is_contiguous()"
      ]
    },
    {
      "cell_type": "code",
      "execution_count": 66,
      "metadata": {
        "colab": {
          "base_uri": "https://localhost:8080/"
        },
        "id": "d6XNbYsjrALE",
        "outputId": "9c258fcd-7d42-4cf5-b712-370e492dc4d2"
      },
      "outputs": [
        {
          "name": "stdout",
          "output_type": "stream",
          "text": [
            "tensor([[4., 5., 2.],\n",
            "        [1., 3., 1.]])\n"
          ]
        }
      ],
      "source": [
        "points_t = torch.transpose(points, 0, 1)\n",
        "print(points_t)"
      ]
    },
    {
      "cell_type": "code",
      "execution_count": 67,
      "metadata": {
        "colab": {
          "base_uri": "https://localhost:8080/"
        },
        "id": "_490WlTnrLhw",
        "outputId": "adf83fdc-a7d6-4e49-9d07-d76cca06267b"
      },
      "outputs": [
        {
          "data": {
            "text/plain": [
              "False"
            ]
          },
          "execution_count": 67,
          "metadata": {},
          "output_type": "execute_result"
        }
      ],
      "source": [
        "points_t.is_contiguous()"
      ]
    },
    {
      "cell_type": "markdown",
      "metadata": {
        "id": "5fCS8exyrWme"
      },
      "source": [
        "contiguous関数を用いて、非連続なテンソルから新しい連続テンソルを取得できる"
      ]
    },
    {
      "cell_type": "code",
      "execution_count": 68,
      "metadata": {
        "colab": {
          "base_uri": "https://localhost:8080/"
        },
        "id": "bi4hj7AWr58o",
        "outputId": "dc9f146b-c17c-4ddc-d02b-4ac62b90a1a0"
      },
      "outputs": [
        {
          "name": "stdout",
          "output_type": "stream",
          "text": [
            "tensor([[4., 1.],\n",
            "        [5., 3.],\n",
            "        [2., 1.]])\n",
            "tensor([[4., 5., 2.],\n",
            "        [1., 3., 1.]])\n"
          ]
        }
      ],
      "source": [
        "points = torch.tensor([[4.0, 1.0], [5.0, 3.0], [2.0, 1.0]])\n",
        "print(points)\n",
        "points_t = points.t()\n",
        "print(points_t)"
      ]
    },
    {
      "cell_type": "code",
      "execution_count": 69,
      "metadata": {
        "colab": {
          "base_uri": "https://localhost:8080/"
        },
        "id": "YS5kfxVYsFXW",
        "outputId": "ffeefbf2-213f-440c-b7dc-7fbb6b028fe4"
      },
      "outputs": [
        {
          "data": {
            "text/plain": [
              " 4.0\n",
              " 1.0\n",
              " 5.0\n",
              " 3.0\n",
              " 2.0\n",
              " 1.0\n",
              "[torch.storage.TypedStorage(dtype=torch.float32, device=cpu) of size 6]"
            ]
          },
          "execution_count": 69,
          "metadata": {},
          "output_type": "execute_result"
        }
      ],
      "source": [
        "points.storage()"
      ]
    },
    {
      "cell_type": "code",
      "execution_count": 70,
      "metadata": {
        "colab": {
          "base_uri": "https://localhost:8080/"
        },
        "id": "kM02oBresQCv",
        "outputId": "0c25f98a-bdc3-4950-bd28-2c7cf64d4c7b"
      },
      "outputs": [
        {
          "data": {
            "text/plain": [
              " 4.0\n",
              " 1.0\n",
              " 5.0\n",
              " 3.0\n",
              " 2.0\n",
              " 1.0\n",
              "[torch.storage.TypedStorage(dtype=torch.float32, device=cpu) of size 6]"
            ]
          },
          "execution_count": 70,
          "metadata": {},
          "output_type": "execute_result"
        }
      ],
      "source": [
        "points_t.storage()"
      ]
    },
    {
      "cell_type": "code",
      "execution_count": 71,
      "metadata": {
        "colab": {
          "base_uri": "https://localhost:8080/"
        },
        "id": "JlSeQbbNsWsV",
        "outputId": "482ea772-163c-4b74-9dd2-aceb26c33c43"
      },
      "outputs": [
        {
          "data": {
            "text/plain": [
              "(2, 1)"
            ]
          },
          "execution_count": 71,
          "metadata": {},
          "output_type": "execute_result"
        }
      ],
      "source": [
        "points.stride()"
      ]
    },
    {
      "cell_type": "code",
      "execution_count": 72,
      "metadata": {
        "colab": {
          "base_uri": "https://localhost:8080/"
        },
        "id": "h4YL1rcJsfVK",
        "outputId": "89467a3f-e2d3-4684-c77a-e20845dd793f"
      },
      "outputs": [
        {
          "data": {
            "text/plain": [
              "(1, 2)"
            ]
          },
          "execution_count": 72,
          "metadata": {},
          "output_type": "execute_result"
        }
      ],
      "source": [
        "points_t.stride()"
      ]
    },
    {
      "cell_type": "code",
      "execution_count": 73,
      "metadata": {
        "colab": {
          "base_uri": "https://localhost:8080/"
        },
        "id": "cW_DMGEXshPI",
        "outputId": "2312ac08-ab76-4bc7-e91c-76f95e72eae0"
      },
      "outputs": [
        {
          "data": {
            "text/plain": [
              "True"
            ]
          },
          "execution_count": 73,
          "metadata": {},
          "output_type": "execute_result"
        }
      ],
      "source": [
        "points.is_contiguous()"
      ]
    },
    {
      "cell_type": "code",
      "execution_count": 74,
      "metadata": {
        "colab": {
          "base_uri": "https://localhost:8080/"
        },
        "id": "QwL5bfiqslY2",
        "outputId": "469c9057-eb70-4a05-f709-e5ccca58f5ff"
      },
      "outputs": [
        {
          "data": {
            "text/plain": [
              "False"
            ]
          },
          "execution_count": 74,
          "metadata": {},
          "output_type": "execute_result"
        }
      ],
      "source": [
        "points_t.is_contiguous()"
      ]
    },
    {
      "cell_type": "code",
      "execution_count": 75,
      "metadata": {
        "colab": {
          "base_uri": "https://localhost:8080/"
        },
        "id": "nJyzf64vsntV",
        "outputId": "5e2d6b62-6403-42ca-aad2-0c2925595592"
      },
      "outputs": [
        {
          "data": {
            "text/plain": [
              "tensor([[4., 1.],\n",
              "        [5., 3.],\n",
              "        [2., 1.]])"
            ]
          },
          "execution_count": 75,
          "metadata": {},
          "output_type": "execute_result"
        }
      ],
      "source": [
        "points.contiguous()"
      ]
    },
    {
      "cell_type": "code",
      "execution_count": 76,
      "metadata": {
        "id": "41BQxRd3s0C1"
      },
      "outputs": [],
      "source": [
        "points_t_cont = points_t.contiguous() # 新しいメモリが連続したテンソルを生成している"
      ]
    },
    {
      "cell_type": "code",
      "execution_count": 77,
      "metadata": {
        "colab": {
          "base_uri": "https://localhost:8080/"
        },
        "id": "r7emaLoQs3Bt",
        "outputId": "3e0cfb42-bc54-4f74-f433-af2b64b1bd6b"
      },
      "outputs": [
        {
          "data": {
            "text/plain": [
              "False"
            ]
          },
          "execution_count": 77,
          "metadata": {},
          "output_type": "execute_result"
        }
      ],
      "source": [
        "points_t.is_contiguous()"
      ]
    },
    {
      "cell_type": "code",
      "execution_count": 78,
      "metadata": {
        "colab": {
          "base_uri": "https://localhost:8080/"
        },
        "id": "IL7-MwVotC2Q",
        "outputId": "31882dc3-2771-4599-b06a-d33b37ddcf20"
      },
      "outputs": [
        {
          "name": "stdout",
          "output_type": "stream",
          "text": [
            "tensor([[4., 5., 2.],\n",
            "        [1., 3., 1.]])\n",
            "True\n"
          ]
        }
      ],
      "source": [
        "print(points_t_cont)\n",
        "print(points_t_cont.is_contiguous())"
      ]
    },
    {
      "cell_type": "code",
      "execution_count": 79,
      "metadata": {
        "colab": {
          "base_uri": "https://localhost:8080/"
        },
        "id": "hJIMR3S1tWcr",
        "outputId": "655e48a4-36f9-4058-e3ce-7e269b780d23"
      },
      "outputs": [
        {
          "name": "stdout",
          "output_type": "stream",
          "text": [
            "False\n"
          ]
        }
      ],
      "source": [
        "print(id(points_t_cont) == id(points)) # もはや、同じメモリ領域を指していない."
      ]
    },
    {
      "cell_type": "code",
      "execution_count": 80,
      "metadata": {
        "colab": {
          "base_uri": "https://localhost:8080/"
        },
        "id": "HtA9I3EUtpCD",
        "outputId": "66bdcd18-cf66-4b68-d831-f717a45d1700"
      },
      "outputs": [
        {
          "data": {
            "text/plain": [
              " 4.0\n",
              " 1.0\n",
              " 5.0\n",
              " 3.0\n",
              " 2.0\n",
              " 1.0\n",
              "[torch.storage.TypedStorage(dtype=torch.float32, device=cpu) of size 6]"
            ]
          },
          "execution_count": 80,
          "metadata": {},
          "output_type": "execute_result"
        }
      ],
      "source": [
        "points.storage()"
      ]
    },
    {
      "cell_type": "code",
      "execution_count": 81,
      "metadata": {
        "colab": {
          "base_uri": "https://localhost:8080/"
        },
        "id": "p4BJvY7et3jV",
        "outputId": "8d44d570-d9df-4273-fbf7-c8bc00d61b04"
      },
      "outputs": [
        {
          "data": {
            "text/plain": [
              " 4.0\n",
              " 5.0\n",
              " 2.0\n",
              " 1.0\n",
              " 3.0\n",
              " 1.0\n",
              "[torch.storage.TypedStorage(dtype=torch.float32, device=cpu) of size 6]"
            ]
          },
          "execution_count": 81,
          "metadata": {},
          "output_type": "execute_result"
        }
      ],
      "source": [
        "points_t_cont.storage()"
      ]
    },
    {
      "cell_type": "markdown",
      "metadata": {
        "id": "rj99uYoat51l"
      },
      "source": [
        "### テンソルのデバイス属性の管理"
      ]
    },
    {
      "cell_type": "code",
      "execution_count": 82,
      "metadata": {
        "id": "tvAgLN2Vuhmp"
      },
      "outputs": [],
      "source": [
        "# GPU上にテンソルを配置する\n",
        "points_gpu = torch.tensor([[4.0, 1.0], [5.0, 3.0], [2.0, 1.0]], device='cuda')"
      ]
    },
    {
      "cell_type": "code",
      "execution_count": 83,
      "metadata": {
        "id": "zuSvu2XtuypN"
      },
      "outputs": [],
      "source": [
        "# CPUで作成したテンソルをto関数を使ってGPUにコピーする\n",
        "points_gpu_to = points.to(device='cuda')"
      ]
    },
    {
      "cell_type": "code",
      "execution_count": 84,
      "metadata": {
        "colab": {
          "base_uri": "https://localhost:8080/"
        },
        "id": "m7DlTTGHwAxv",
        "outputId": "e454de3f-d67f-4396-f5b5-bf4761768586"
      },
      "outputs": [
        {
          "data": {
            "text/plain": [
              "tensor([[4., 1.],\n",
              "        [5., 3.],\n",
              "        [2., 1.]], device='cuda:0')"
            ]
          },
          "execution_count": 84,
          "metadata": {},
          "output_type": "execute_result"
        }
      ],
      "source": [
        "points_gpu_to"
      ]
    },
    {
      "cell_type": "code",
      "execution_count": 85,
      "metadata": {
        "id": "iX_psa50wCr5"
      },
      "outputs": [],
      "source": [
        "# GPUが複数台存在する場合, 整数で指定できる\n",
        "points_gpu = points.to(device='cuda:0')"
      ]
    },
    {
      "cell_type": "code",
      "execution_count": 86,
      "metadata": {
        "id": "oFJaePXYwZvB"
      },
      "outputs": [],
      "source": [
        "points = 2 * points # CPUでの掛け算\n",
        "points_gpu = 2 * points.to(device='cuda') # GPUでの掛け算"
      ]
    },
    {
      "cell_type": "code",
      "execution_count": 87,
      "metadata": {
        "id": "EPvVw_TAwpr-"
      },
      "outputs": [],
      "source": [
        "points_gpu = points_gpu + 4 # 計算結果もGPU上にある"
      ]
    },
    {
      "cell_type": "code",
      "execution_count": 88,
      "metadata": {
        "id": "inb-pbJow9yK"
      },
      "outputs": [],
      "source": [
        "# GPU->CPU\n",
        "points_cpu = points_gpu.to(device='cuda')"
      ]
    },
    {
      "cell_type": "code",
      "execution_count": 89,
      "metadata": {
        "id": "tRthWR4nxJFH"
      },
      "outputs": [],
      "source": [
        "# cpu/cuda\n",
        "points_gpu = points.cuda() # GPUの１個目に自動配置\n",
        "points_gpu = points.cuda(0)\n",
        "points_cpu = points_gpu.cpu()"
      ]
    },
    {
      "cell_type": "markdown",
      "metadata": {
        "id": "5vMCuqJOxYvT"
      },
      "source": [
        "### Numpyとの相互運用性"
      ]
    },
    {
      "cell_type": "code",
      "execution_count": 90,
      "metadata": {
        "colab": {
          "base_uri": "https://localhost:8080/"
        },
        "id": "A5tILNZeyaj4",
        "outputId": "a237fc0c-f12c-42f3-dc3b-25bdd0725f15"
      },
      "outputs": [
        {
          "data": {
            "text/plain": [
              "array([[1., 1., 1., 1.],\n",
              "       [1., 1., 1., 1.],\n",
              "       [1., 1., 1., 1.]], dtype=float32)"
            ]
          },
          "execution_count": 90,
          "metadata": {},
          "output_type": "execute_result"
        }
      ],
      "source": [
        "points = torch.ones(3,4)\n",
        "points_np = points.numpy() # テンソルがCPU上ならメモリコピーは発生しない!\n",
        "points_np"
      ]
    },
    {
      "cell_type": "code",
      "execution_count": 91,
      "metadata": {
        "id": "LAyKwmtaymha"
      },
      "outputs": [],
      "source": [
        "points = torch.from_numpy(points_np)"
      ]
    },
    {
      "cell_type": "markdown",
      "metadata": {
        "id": "6OARDEyjy9Bi"
      },
      "source": [
        "注意) Pytorchの型デフォルトはfloat32だが, numpyはfloat64なので、numpyからtorchに変換後にdtypeがtorch.floatであることを確認すべき"
      ]
    },
    {
      "cell_type": "code",
      "execution_count": 92,
      "metadata": {
        "colab": {
          "base_uri": "https://localhost:8080/"
        },
        "id": "MxljzEAuzXVD",
        "outputId": "5649477c-2427-4a0b-fefa-47ef91b77d71"
      },
      "outputs": [
        {
          "data": {
            "text/plain": [
              "torch.float32"
            ]
          },
          "execution_count": 92,
          "metadata": {},
          "output_type": "execute_result"
        }
      ],
      "source": [
        "points.dtype"
      ]
    },
    {
      "cell_type": "code",
      "execution_count": 93,
      "metadata": {
        "colab": {
          "base_uri": "https://localhost:8080/"
        },
        "id": "5aPkQMZ5zZlK",
        "outputId": "aa73445c-ce1a-4917-9239-f7030a9da5d4"
      },
      "outputs": [
        {
          "data": {
            "text/plain": [
              "dtype('float32')"
            ]
          },
          "execution_count": 93,
          "metadata": {},
          "output_type": "execute_result"
        }
      ],
      "source": [
        "points_np.dtype"
      ]
    },
    {
      "cell_type": "code",
      "execution_count": 94,
      "metadata": {
        "colab": {
          "base_uri": "https://localhost:8080/"
        },
        "id": "Z5n-YE0JzdtS",
        "outputId": "31a8666d-331f-42df-d059-2b3765ce9c69"
      },
      "outputs": [
        {
          "data": {
            "text/plain": [
              "dtype('float64')"
            ]
          },
          "execution_count": 94,
          "metadata": {},
          "output_type": "execute_result"
        }
      ],
      "source": [
        "points_np_ori = np.array([3.0, 4.0])\n",
        "points_np_ori.dtype"
      ]
    },
    {
      "cell_type": "markdown",
      "metadata": {
        "id": "8luSiBVwzp7B"
      },
      "source": [
        "### テンソルの保存とロード(Serializing)"
      ]
    },
    {
      "cell_type": "code",
      "execution_count": 96,
      "metadata": {
        "id": "Yw9KMNc515jm"
      },
      "outputs": [],
      "source": [
        "torch.save(points, \"./dlwpt-code-master/data/p1ch3/ourpoints.t\")"
      ]
    },
    {
      "cell_type": "code",
      "execution_count": 97,
      "metadata": {
        "id": "phIuYJfw296S"
      },
      "outputs": [],
      "source": [
        "with open(\"./dlwpt-code-master/data/p1ch3/ourpoints2.t\", 'wb') as f:\n",
        "  torch.save(points, f)"
      ]
    },
    {
      "cell_type": "code",
      "execution_count": 98,
      "metadata": {
        "id": "IpAXdL3x3T91"
      },
      "outputs": [],
      "source": [
        "points_load = torch.load('./dlwpt-code-master/data/p1ch3/ourpoints.t')"
      ]
    },
    {
      "cell_type": "code",
      "execution_count": 99,
      "metadata": {
        "id": "03zjzc_73dDe"
      },
      "outputs": [],
      "source": [
        "with open('./dlwpt-code-master/data/p1ch3/ourpoints2.t', 'rb') as f:\n",
        "  points_load2 = torch.load(f)"
      ]
    },
    {
      "cell_type": "markdown",
      "metadata": {
        "id": "DjsGk1Eg3oHz"
      },
      "source": [
        "### h5pyによるHDF5での保存"
      ]
    },
    {
      "cell_type": "code",
      "execution_count": 101,
      "metadata": {
        "id": "JgDX4saU3xg8"
      },
      "outputs": [],
      "source": [
        "import h5py"
      ]
    },
    {
      "cell_type": "code",
      "execution_count": 102,
      "metadata": {
        "id": "GvSsj3HZ3_O2"
      },
      "outputs": [],
      "source": [
        "f = h5py.File('./dlwpt-code-master/data/p1ch3/ourpoints.hdf5', 'w')\n",
        "dset = f.create_dataset('coords', data=points.numpy()) # numpyに変換している\n",
        "f.close()"
      ]
    },
    {
      "cell_type": "code",
      "execution_count": 103,
      "metadata": {
        "colab": {
          "base_uri": "https://localhost:8080/"
        },
        "id": "rmVpcf3-4TgY",
        "outputId": "3cb14d38-9fe9-4d9b-85f1-7e5ac75b9a68"
      },
      "outputs": [
        {
          "name": "stdout",
          "output_type": "stream",
          "text": [
            "dset <HDF5 dataset \"coords\": shape (3, 4), type \"<f4\">\n"
          ]
        }
      ],
      "source": [
        "# HDF5はkey-value辞書形式で構成された多次元配列を表現するためのフォーマット\n",
        "# ディクス上のデータセットにインデックスをつけて、関心のある要素だけにアクセスできる(メモリに配置できる)\n",
        "f = h5py.File('./dlwpt-code-master/data/p1ch3/ourpoints.hdf5', 'r')\n",
        "dset = f['coords'] # key: coords\n",
        "print('dset', dset)\n",
        "last_points = dset[-3:]\n",
        "f.close()"
      ]
    },
    {
      "cell_type": "code",
      "execution_count": 104,
      "metadata": {
        "colab": {
          "base_uri": "https://localhost:8080/"
        },
        "id": "ISvMMN3p59Eh",
        "outputId": "b7e76bcf-bf2d-4a39-d304-d009d116733a"
      },
      "outputs": [
        {
          "name": "stdout",
          "output_type": "stream",
          "text": [
            "[[1. 1. 1. 1.]\n",
            " [1. 1. 1. 1.]\n",
            " [1. 1. 1. 1.]]\n"
          ]
        }
      ],
      "source": [
        "print(last_points)"
      ]
    },
    {
      "cell_type": "code",
      "execution_count": 105,
      "metadata": {
        "id": "IHnMqdyy6RMb"
      },
      "outputs": [],
      "source": [
        "last_points = torch.from_numpy(last_points)"
      ]
    },
    {
      "cell_type": "code",
      "execution_count": 106,
      "metadata": {
        "colab": {
          "base_uri": "https://localhost:8080/"
        },
        "id": "KusbN2KB682J",
        "outputId": "15f7eec1-d6a2-4bba-8d16-052c93bf30b6"
      },
      "outputs": [
        {
          "data": {
            "text/plain": [
              "tensor([[1., 1., 1., 1.],\n",
              "        [1., 1., 1., 1.],\n",
              "        [1., 1., 1., 1.]])"
            ]
          },
          "execution_count": 106,
          "metadata": {},
          "output_type": "execute_result"
        }
      ],
      "source": [
        "last_points"
      ]
    },
    {
      "cell_type": "code",
      "execution_count": null,
      "metadata": {
        "id": "cN5tj4Pd6-SP"
      },
      "outputs": [],
      "source": []
    }
  ],
  "metadata": {
    "accelerator": "GPU",
    "colab": {
      "authorship_tag": "ABX9TyPLsNx188iYcZ3va8CkDRYG",
      "collapsed_sections": [],
      "include_colab_link": true,
      "name": "PytorchTutorial_p2ch3_tensor.ipynb",
      "provenance": []
    },
    "kernelspec": {
      "display_name": "Py39DeepLeaerning",
      "language": "python",
      "name": "python3"
    },
    "language_info": {
      "codemirror_mode": {
        "name": "ipython",
        "version": 3
      },
      "file_extension": ".py",
      "mimetype": "text/x-python",
      "name": "python",
      "nbconvert_exporter": "python",
      "pygments_lexer": "ipython3",
      "version": "3.9.16"
    },
    "vscode": {
      "interpreter": {
        "hash": "09729332f671cc9efac8a6faf8ef7d4a023ceb58c2a37747e371e1ffe225dc86"
      }
    }
  },
  "nbformat": 4,
  "nbformat_minor": 0
}
