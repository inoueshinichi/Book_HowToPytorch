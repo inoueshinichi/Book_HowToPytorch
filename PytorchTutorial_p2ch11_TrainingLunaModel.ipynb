{
 "cells": [
  {
   "attachments": {},
   "cell_type": "markdown",
   "metadata": {},
   "source": [
    "# Lunaモデルの学習"
   ]
  },
  {
   "attachments": {},
   "cell_type": "markdown",
   "metadata": {},
   "source": [
    "### Lunaサイト\n",
    "https://luna16.grand-challenge.org/Description/"
   ]
  },
  {
   "attachments": {},
   "cell_type": "markdown",
   "metadata": {},
   "source": [
    "### データセット概要\n",
    "アーカイブを展開した状態のすべてのデータで約220GBを必要とする.  \n",
    "+ annotations.csv\n",
    "+ candidates.csv\n",
    "+ sampleSubmission.csv\n",
    "+ candidates_V2.zip\n",
    "+ evaluationScript.zip\n",
    "+ seg-lungs-LUNA16.zip\n",
    "1. subset0.zip\n",
    "2. subset1.zip\n",
    "3. subset2.zip\n",
    "4. subset3.zip\n",
    "5. subset4.zip\n",
    "6. subset5.zip\n",
    "7. subset6.zip\n",
    "8. subset7.zip\n",
    "9. subset8.zip\n",
    "10. subset10.zip\n",
    "\n",
    "### subsetの中身\n",
    "+ series_uidをユニークIDとして*.mhdと*.rawの2種類のファイルがある"
   ]
  },
  {
   "cell_type": "code",
   "execution_count": 1,
   "metadata": {},
   "outputs": [],
   "source": [
    "\n",
    "import datetime\n",
    "from p2_ct_project.util.logconf import logging\n",
    "log = logging.getLogger('nb')\n",
    "# log.setLevel(logging.WARN)\n",
    "log.setLevel(logging.INFO)\n",
    "log.setLevel(logging.DEBUG)\n",
    "\n",
    "from p2_ct_project.util.util import importstr\n",
    "\n",
    "# run_everything\n",
    "def run(app, *argv):\n",
    "    argv = list(argv)\n",
    "    argv.insert(0, '--num-workers=4')\n",
    "    # 4コア8スレッドのCPUを仮定\n",
    "    log.info(\"Running: {}({!r}).main()\".format(app, argv))\n",
    "    print(\"*app.rsplit('.', 1) : \", *app.rsplit('.', 1))\n",
    "\n",
    "    app_cls = importstr(*app.rsplit('.', 1)) # __import__を実行\n",
    "    app_cls(argv).main()\n",
    "\n",
    "    log.info(\"Finished: {}.({!r}).main()\".format(app, argv))"
   ]
  },
  {
   "cell_type": "code",
   "execution_count": 2,
   "metadata": {},
   "outputs": [],
   "source": [
    "import os\n",
    "import shutil\n",
    "\n",
    "# clean up any old data that might be around.\n",
    "# We don't call this by default because it's destructive, \n",
    "# and would waste a lot of time if it ran when nothing \n",
    "# on the application side had changed.\n",
    "def cleanCache():\n",
    "    shutil.rmtree('data-unversioned/cache')\n",
    "    os.mkdir('data-unversioned/cache')\n",
    "\n",
    "#cleanCache()"
   ]
  },
  {
   "attachments": {},
   "cell_type": "markdown",
   "metadata": {},
   "source": [
    "### Chapter11"
   ]
  },
  {
   "cell_type": "code",
   "execution_count": 4,
   "metadata": {},
   "outputs": [
    {
     "name": "stderr",
     "output_type": "stream",
     "text": [
      "2023-04-07 19:26:13,870 INFO     pid:17136 nb:015:run Running: p2_ct_project.p2ch11.training_luna.LunaTrainingApp(['--num-workers=4', '--datasetdir=E:/Luna16', '--epochs=10']).main()\n",
      "2023-04-07 19:26:13,874 INFO     pid:17136 p2_ct_project.p2ch11.training_luna:087:initModel Using CUDA; 1 devices.\n",
      "2023-04-07 19:26:13,877 INFO     pid:17136 p2_ct_project.p2ch11.training_luna:148:main Starting LunaTrainingApp, Namespace(num_workers=4, batch_size=32, epochs=10, tb_prefix='p2ch11', comment='dwlpt', datasetdir='E:/Luna16')\n",
      "2023-04-07 19:26:13,887 INFO     pid:17136 p2_ct_project.p2ch10.dataset_luna:198:__init__ <p2_ct_project.p2ch10.dataset_luna.LunaDataset object at 0x0000021D628CE1C0>: 551065 training samples\n",
      "2023-04-07 19:26:13,904 INFO     pid:17136 p2_ct_project.p2ch10.dataset_luna:198:__init__ <p2_ct_project.p2ch10.dataset_luna.LunaDataset object at 0x0000021D0556F0D0>: 55107 validation samples\n",
      "2023-04-07 19:26:13,904 INFO     pid:17136 p2_ct_project.p2ch11.training_luna:155:main Epoch 1 of 10, 17221/1723 batches of size 32*1\n",
      "2023-04-07 19:26:13,905 WARNING  pid:17136 p2_ct_project.util.util:217:enumerateWithEstimate E1 Training ----/17221, starting\n"
     ]
    },
    {
     "name": "stdout",
     "output_type": "stream",
     "text": [
      "*app.rsplit('.', 1) :  p2_ct_project.p2ch11.training_luna LunaTrainingApp\n",
      "module:  <module 'p2_ct_project' (namespace)>\n"
     ]
    },
    {
     "name": "stderr",
     "output_type": "stream",
     "text": [
      "2023-04-07 19:26:29,738 INFO     pid:17136 p2_ct_project.util.util:234:enumerateWithEstimate E1 Training   32/17221, done at 2023-04-07 19:43:35, 0:17:07\n",
      "2023-04-07 19:26:48,162 INFO     pid:17136 p2_ct_project.util.util:234:enumerateWithEstimate E1 Training  256/17221, done at 2023-04-07 19:49:19, 0:22:51\n",
      "2023-04-07 19:29:18,485 INFO     pid:17136 p2_ct_project.util.util:234:enumerateWithEstimate E1 Training 2048/17221, done at 2023-04-07 19:50:23, 0:23:55\n",
      "2023-04-07 19:49:29,769 INFO     pid:17136 p2_ct_project.util.util:234:enumerateWithEstimate E1 Training 16384/17221, done at 2023-04-07 19:50:40, 0:24:12\n",
      "2023-04-07 19:50:42,719 WARNING  pid:17136 p2_ct_project.util.util:247:enumerateWithEstimate E1 Training ----/17221, done at 2023-04-07 19:50:42\n",
      "2023-04-07 19:50:42,726 INFO     pid:17136 p2_ct_project.p2ch11.training_luna:265:logMetrics E1 LunaTrainingApp\n",
      "2023-04-07 19:50:42,734 INFO     pid:17136 p2_ct_project.p2ch11.training_luna:291:logMetrics E1 trn      0.3937 loss,  99.8% correct,\n",
      "2023-04-07 19:50:42,735 INFO     pid:17136 p2_ct_project.p2ch11.training_luna:299:logMetrics E1 trn_neg  0.3947 loss, 100.0% correct (549689 of 549714)\n",
      "2023-04-07 19:50:42,735 INFO     pid:17136 p2_ct_project.p2ch11.training_luna:312:logMetrics E1 trn_pos  0.0126 loss,   1.2% correct (16 of 1351)\n"
     ]
    },
    {
     "ename": "ValueError",
     "evalue": "The histogram is empty, please file a bug report.",
     "output_type": "error",
     "traceback": [
      "\u001b[1;31m---------------------------------------------------------------------------\u001b[0m",
      "\u001b[1;31mValueError\u001b[0m                                Traceback (most recent call last)",
      "Cell \u001b[1;32mIn[4], line 1\u001b[0m\n\u001b[1;32m----> 1\u001b[0m run(\u001b[39m'\u001b[39;49m\u001b[39mp2_ct_project.p2ch11.training_luna.LunaTrainingApp\u001b[39;49m\u001b[39m'\u001b[39;49m, \u001b[39m'\u001b[39;49m\u001b[39m--datasetdir=E:/Luna16\u001b[39;49m\u001b[39m'\u001b[39;49m, \u001b[39m'\u001b[39;49m\u001b[39m--epochs=10\u001b[39;49m\u001b[39m'\u001b[39;49m)\n",
      "Cell \u001b[1;32mIn[1], line 19\u001b[0m, in \u001b[0;36mrun\u001b[1;34m(app, *argv)\u001b[0m\n\u001b[0;32m     16\u001b[0m \u001b[39mprint\u001b[39m(\u001b[39m\"\u001b[39m\u001b[39m*app.rsplit(\u001b[39m\u001b[39m'\u001b[39m\u001b[39m.\u001b[39m\u001b[39m'\u001b[39m\u001b[39m, 1) : \u001b[39m\u001b[39m\"\u001b[39m, \u001b[39m*\u001b[39mapp\u001b[39m.\u001b[39mrsplit(\u001b[39m'\u001b[39m\u001b[39m.\u001b[39m\u001b[39m'\u001b[39m, \u001b[39m1\u001b[39m))\n\u001b[0;32m     18\u001b[0m app_cls \u001b[39m=\u001b[39m importstr(\u001b[39m*\u001b[39mapp\u001b[39m.\u001b[39mrsplit(\u001b[39m'\u001b[39m\u001b[39m.\u001b[39m\u001b[39m'\u001b[39m, \u001b[39m1\u001b[39m)) \u001b[39m# __import__を実行\u001b[39;00m\n\u001b[1;32m---> 19\u001b[0m app_cls(argv)\u001b[39m.\u001b[39;49mmain()\n\u001b[0;32m     21\u001b[0m log\u001b[39m.\u001b[39minfo(\u001b[39m\"\u001b[39m\u001b[39mFinished: \u001b[39m\u001b[39m{}\u001b[39;00m\u001b[39m.(\u001b[39m\u001b[39m{!r}\u001b[39;00m\u001b[39m).main()\u001b[39m\u001b[39m\"\u001b[39m\u001b[39m.\u001b[39mformat(app, argv))\n",
      "File \u001b[1;32mc:\\Users\\InoueShinichi\\Desktop\\MyGithub\\Book_HowToPytorch\\p2_ct_project\\p2ch11\\training_luna.py:165\u001b[0m, in \u001b[0;36mLunaTrainingApp.main\u001b[1;34m(self)\u001b[0m\n\u001b[0;32m    155\u001b[0m log\u001b[39m.\u001b[39minfo(\u001b[39m\"\u001b[39m\u001b[39mEpoch \u001b[39m\u001b[39m{}\u001b[39;00m\u001b[39m of \u001b[39m\u001b[39m{}\u001b[39;00m\u001b[39m, \u001b[39m\u001b[39m{}\u001b[39;00m\u001b[39m/\u001b[39m\u001b[39m{}\u001b[39;00m\u001b[39m batches of size \u001b[39m\u001b[39m{}\u001b[39;00m\u001b[39m*\u001b[39m\u001b[39m{}\u001b[39;00m\u001b[39m\"\u001b[39m\u001b[39m.\u001b[39mformat(\n\u001b[0;32m    156\u001b[0m     epoch_ndx,\n\u001b[0;32m    157\u001b[0m     \u001b[39mself\u001b[39m\u001b[39m.\u001b[39mcli_args\u001b[39m.\u001b[39mepochs,\n\u001b[1;32m   (...)\u001b[0m\n\u001b[0;32m    161\u001b[0m     (torch\u001b[39m.\u001b[39mcuda\u001b[39m.\u001b[39mdevice_count() \u001b[39mif\u001b[39;00m \u001b[39mself\u001b[39m\u001b[39m.\u001b[39muse_cuda \u001b[39melse\u001b[39;00m \u001b[39m1\u001b[39m)\n\u001b[0;32m    162\u001b[0m ))\n\u001b[0;32m    164\u001b[0m trnMetrics_t \u001b[39m=\u001b[39m \u001b[39mself\u001b[39m\u001b[39m.\u001b[39mdoTraining(epoch_ndx, train_dl)\n\u001b[1;32m--> 165\u001b[0m \u001b[39mself\u001b[39;49m\u001b[39m.\u001b[39;49mlogMetrics(epoch_ndx, \u001b[39m'\u001b[39;49m\u001b[39mtrn\u001b[39;49m\u001b[39m'\u001b[39;49m, trnMetrics_t)\n\u001b[0;32m    167\u001b[0m valMetrics_t \u001b[39m=\u001b[39m \u001b[39mself\u001b[39m\u001b[39m.\u001b[39mdoValidation(epoch_ndx, val_dl)\n\u001b[0;32m    168\u001b[0m \u001b[39mself\u001b[39m\u001b[39m.\u001b[39mlogMetrics(epoch_ndx, \u001b[39m'\u001b[39m\u001b[39mval\u001b[39m\u001b[39m'\u001b[39m, valMetrics_t)\n",
      "File \u001b[1;32mc:\\Users\\InoueShinichi\\Desktop\\MyGithub\\Book_HowToPytorch\\p2_ct_project\\p2ch11\\training_luna.py:342\u001b[0m, in \u001b[0;36mLunaTrainingApp.logMetrics\u001b[1;34m(self, epoch_ndx, mode_str, metrics_t, classificationThread)\u001b[0m\n\u001b[0;32m    339\u001b[0m posHist_mask \u001b[39m=\u001b[39m posLabel_mask \u001b[39m&\u001b[39m (metrics_t[METRICS_PRED_NDX] \u001b[39m<\u001b[39m \u001b[39m0.99\u001b[39m)\n\u001b[0;32m    341\u001b[0m \u001b[39mif\u001b[39;00m negHist_mask\u001b[39m.\u001b[39many():\n\u001b[1;32m--> 342\u001b[0m     writer\u001b[39m.\u001b[39madd_histogram(\n\u001b[0;32m    343\u001b[0m         \u001b[39m'\u001b[39m\u001b[39mis_neg\u001b[39m\u001b[39m'\u001b[39m,\n\u001b[0;32m    344\u001b[0m         metrics_t[METRICS_PRED_NDX, negHist_mask],\n\u001b[0;32m    345\u001b[0m         \u001b[39mself\u001b[39m\u001b[39m.\u001b[39mtotalTrainingSamples_count,\n\u001b[0;32m    346\u001b[0m         bins\u001b[39m=\u001b[39mbins,\n\u001b[0;32m    347\u001b[0m     )\n\u001b[0;32m    349\u001b[0m \u001b[39mif\u001b[39;00m posHist_mask\u001b[39m.\u001b[39many():\n\u001b[0;32m    350\u001b[0m     writer\u001b[39m.\u001b[39madd_histogram(\n\u001b[0;32m    351\u001b[0m         \u001b[39m'\u001b[39m\u001b[39mis_pos\u001b[39m\u001b[39m'\u001b[39m,\n\u001b[0;32m    352\u001b[0m         metrics_t[METRICS_PRED_NDX, posHist_mask],\n\u001b[0;32m    353\u001b[0m         \u001b[39mself\u001b[39m\u001b[39m.\u001b[39mtotalTrainingSamples_count,\n\u001b[0;32m    354\u001b[0m         bins\u001b[39m=\u001b[39mbins,\n\u001b[0;32m    355\u001b[0m     )\n",
      "File \u001b[1;32mc:\\Users\\InoueShinichi\\anaconda3\\envs\\Py39WorkingEnv\\lib\\site-packages\\torch\\utils\\tensorboard\\writer.py:485\u001b[0m, in \u001b[0;36mSummaryWriter.add_histogram\u001b[1;34m(self, tag, values, global_step, bins, walltime, max_bins)\u001b[0m\n\u001b[0;32m    482\u001b[0m \u001b[39mif\u001b[39;00m \u001b[39misinstance\u001b[39m(bins, \u001b[39mstr\u001b[39m) \u001b[39mand\u001b[39;00m bins \u001b[39m==\u001b[39m \u001b[39m\"\u001b[39m\u001b[39mtensorflow\u001b[39m\u001b[39m\"\u001b[39m:\n\u001b[0;32m    483\u001b[0m     bins \u001b[39m=\u001b[39m \u001b[39mself\u001b[39m\u001b[39m.\u001b[39mdefault_bins\n\u001b[0;32m    484\u001b[0m \u001b[39mself\u001b[39m\u001b[39m.\u001b[39m_get_file_writer()\u001b[39m.\u001b[39madd_summary(\n\u001b[1;32m--> 485\u001b[0m     histogram(tag, values, bins, max_bins\u001b[39m=\u001b[39;49mmax_bins), global_step, walltime\n\u001b[0;32m    486\u001b[0m )\n",
      "File \u001b[1;32mc:\\Users\\InoueShinichi\\anaconda3\\envs\\Py39WorkingEnv\\lib\\site-packages\\torch\\utils\\tensorboard\\summary.py:358\u001b[0m, in \u001b[0;36mhistogram\u001b[1;34m(name, values, bins, max_bins)\u001b[0m\n\u001b[0;32m    343\u001b[0m \u001b[39m\u001b[39m\u001b[39m\"\"\"Outputs a `Summary` protocol buffer with a histogram.\u001b[39;00m\n\u001b[0;32m    344\u001b[0m \u001b[39mThe generated\u001b[39;00m\n\u001b[0;32m    345\u001b[0m \u001b[39m[`Summary`](https://www.tensorflow.org/code/tensorflow/core/framework/summary.proto)\u001b[39;00m\n\u001b[1;32m   (...)\u001b[0m\n\u001b[0;32m    355\u001b[0m \u001b[39m  buffer.\u001b[39;00m\n\u001b[0;32m    356\u001b[0m \u001b[39m\"\"\"\u001b[39;00m\n\u001b[0;32m    357\u001b[0m values \u001b[39m=\u001b[39m make_np(values)\n\u001b[1;32m--> 358\u001b[0m hist \u001b[39m=\u001b[39m make_histogram(values\u001b[39m.\u001b[39;49mastype(\u001b[39mfloat\u001b[39;49m), bins, max_bins)\n\u001b[0;32m    359\u001b[0m \u001b[39mreturn\u001b[39;00m Summary(value\u001b[39m=\u001b[39m[Summary\u001b[39m.\u001b[39mValue(tag\u001b[39m=\u001b[39mname, histo\u001b[39m=\u001b[39mhist)])\n",
      "File \u001b[1;32mc:\\Users\\InoueShinichi\\anaconda3\\envs\\Py39WorkingEnv\\lib\\site-packages\\torch\\utils\\tensorboard\\summary.py:402\u001b[0m, in \u001b[0;36mmake_histogram\u001b[1;34m(values, bins, max_bins)\u001b[0m\n\u001b[0;32m    399\u001b[0m limits \u001b[39m=\u001b[39m limits[start : end \u001b[39m+\u001b[39m \u001b[39m1\u001b[39m]\n\u001b[0;32m    401\u001b[0m \u001b[39mif\u001b[39;00m counts\u001b[39m.\u001b[39msize \u001b[39m==\u001b[39m \u001b[39m0\u001b[39m \u001b[39mor\u001b[39;00m limits\u001b[39m.\u001b[39msize \u001b[39m==\u001b[39m \u001b[39m0\u001b[39m:\n\u001b[1;32m--> 402\u001b[0m     \u001b[39mraise\u001b[39;00m \u001b[39mValueError\u001b[39;00m(\u001b[39m\"\u001b[39m\u001b[39mThe histogram is empty, please file a bug report.\u001b[39m\u001b[39m\"\u001b[39m)\n\u001b[0;32m    404\u001b[0m sum_sq \u001b[39m=\u001b[39m values\u001b[39m.\u001b[39mdot(values)\n\u001b[0;32m    405\u001b[0m \u001b[39mreturn\u001b[39;00m HistogramProto(\n\u001b[0;32m    406\u001b[0m     \u001b[39mmin\u001b[39m\u001b[39m=\u001b[39mvalues\u001b[39m.\u001b[39mmin(),\n\u001b[0;32m    407\u001b[0m     \u001b[39mmax\u001b[39m\u001b[39m=\u001b[39mvalues\u001b[39m.\u001b[39mmax(),\n\u001b[1;32m   (...)\u001b[0m\n\u001b[0;32m    412\u001b[0m     bucket\u001b[39m=\u001b[39mcounts\u001b[39m.\u001b[39mtolist(),\n\u001b[0;32m    413\u001b[0m )\n",
      "\u001b[1;31mValueError\u001b[0m: The histogram is empty, please file a bug report."
     ]
    }
   ],
   "source": [
    "run('p2_ct_project.p2ch11.training_luna.LunaTrainingApp', '--datasetdir=E:/Luna16', '--epochs=10')"
   ]
  },
  {
   "cell_type": "code",
   "execution_count": null,
   "metadata": {},
   "outputs": [],
   "source": []
  },
  {
   "cell_type": "code",
   "execution_count": null,
   "metadata": {},
   "outputs": [],
   "source": []
  }
 ],
 "metadata": {
  "kernelspec": {
   "display_name": "Py39WorkingEnv",
   "language": "python",
   "name": "python3"
  },
  "language_info": {
   "codemirror_mode": {
    "name": "ipython",
    "version": 3
   },
   "file_extension": ".py",
   "mimetype": "text/x-python",
   "name": "python",
   "nbconvert_exporter": "python",
   "pygments_lexer": "ipython3",
   "version": "3.9.16"
  },
  "orig_nbformat": 4,
  "vscode": {
   "interpreter": {
    "hash": "d9820389ad8a433ddc70fa285b4cd1f6545163bdfc11cca0a88915fd8268595d"
   }
  }
 },
 "nbformat": 4,
 "nbformat_minor": 2
}
