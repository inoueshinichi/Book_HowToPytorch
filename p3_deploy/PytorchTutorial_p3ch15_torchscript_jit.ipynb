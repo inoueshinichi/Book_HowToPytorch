{
 "cells": [
  {
   "attachments": {},
   "cell_type": "markdown",
   "metadata": {},
   "source": [
    "# ネットワークモデルのTorchScript化(JIT化)\n",
    "### 特徴\n",
    "+ PythonのGILを回避できる\n",
    "+ 他のプラットフォームと相互運用性が必要ない場合に使用する(必要な場合はONNX)\n",
    "+ ONNXファイルもJIT化を使用して実現している"
   ]
  },
  {
   "attachments": {},
   "cell_type": "markdown",
   "metadata": {},
   "source": [
    "### JIT化の方法\n",
    "| Method | 特徴 |\n",
    "| :-- | :-- |\n",
    "| trace | JIT化したいモデルに入力と同じ形状のダミー入力を与えて, トレース中に辿ったコードのみをJIT化する |\n",
    "| script | JIT化したいモデルを全てJIT化しようとするが, 専用のコンパイラが理解できる範囲という制限がある |"
   ]
  },
  {
   "attachments": {},
   "cell_type": "markdown",
   "metadata": {},
   "source": [
    "### Traceする際は, モデルパラメータの勾配計算を全てOFFにする\n",
    "```\n",
    "for p in seg_model.parameters():\n",
    "  p.requires_grad_(False)\n",
    "\n",
    "dummy_input = torch.randn(1, 8, 512, 512)\n",
    "traced_seg_model = torch.jit.trace(seg_model, dummy_input) # JIT化(TorchScript)\n",
    "torch.jit.save(traced_seg_model, 'traced_seg_model.pt')\n",
    "loaded_seg_model = torch.jit.load('traced_seg_model.pt')\n",
    "```"
   ]
  },
  {
   "cell_type": "code",
   "execution_count": 1,
   "metadata": {},
   "outputs": [],
   "source": [
    "import torch\n",
    "import re"
   ]
  },
  {
   "cell_type": "code",
   "execution_count": 2,
   "metadata": {},
   "outputs": [
    {
     "data": {
      "text/plain": [
       "'c:\\\\Users\\\\inoue\\\\anaconda3\\\\envs\\\\Py39WorkingEnv\\\\lib\\\\site-packages\\\\torch\\\\__init__.py'"
      ]
     },
     "execution_count": 2,
     "metadata": {},
     "output_type": "execute_result"
    }
   ],
   "source": [
    "torch.__file__"
   ]
  },
  {
   "cell_type": "code",
   "execution_count": 2,
   "metadata": {},
   "outputs": [],
   "source": [
    "def xprint(s):\n",
    "    s = str(s)\n",
    "    s = re.sub(' *#.*','',s)\n",
    "    print(s)"
   ]
  },
  {
   "cell_type": "code",
   "execution_count": 4,
   "metadata": {},
   "outputs": [],
   "source": [
    "# JIT化対象の関数(例)\n",
    "def myfn(x):\n",
    "    y = x[0]\n",
    "    for i in range(1, x.size(0)):\n",
    "        y = y + x[i] # x[0]~x[x.size(0)-1]までを加算\n",
    "    return y"
   ]
  },
  {
   "attachments": {},
   "cell_type": "markdown",
   "metadata": {},
   "source": [
    "トレース"
   ]
  },
  {
   "cell_type": "code",
   "execution_count": 5,
   "metadata": {},
   "outputs": [
    {
     "name": "stdout",
     "output_type": "stream",
     "text": [
      "def myfn(x: Tensor) -> Tensor:\n",
      "  y = torch.select(x, 0, 0)\n",
      "  y0 = torch.add(y, torch.select(x, 0, 1))\n",
      "  y1 = torch.add(y0, torch.select(x, 0, 2))\n",
      "  y2 = torch.add(y1, torch.select(x, 0, 3))\n",
      "  return torch.add(y2, torch.select(x, 0, 4))\n",
      "\n"
     ]
    }
   ],
   "source": [
    "inp = torch.randn(5,5)\n",
    "\n",
    "with torch.no_grad():\n",
    "    traced_fn = torch.jit.trace(myfn, inp)\n",
    "\n",
    "print(traced_fn.code)"
   ]
  },
  {
   "attachments": {},
   "cell_type": "markdown",
   "metadata": {},
   "source": [
    "スクリプト"
   ]
  },
  {
   "cell_type": "code",
   "execution_count": 8,
   "metadata": {},
   "outputs": [
    {
     "name": "stdout",
     "output_type": "stream",
     "text": [
      "def myfn(x: Tensor) -> Tensor:\n",
      "  y = torch.select(x, 0, 0)\n",
      "  _0 = torch.__range_length(1, torch.size(x, 0), 1)\n",
      "  y0 = y\n",
      "  for _1 in range(_0):\n",
      "    i = torch.__derive_index(_1, 1, 1)\n",
      "    y1 = torch.add(y0, torch.select(x, 0, i))\n",
      "    y0 = y1\n",
      "  return y0\n",
      "\n"
     ]
    }
   ],
   "source": [
    "scripted_fn = torch.jit.script(myfn)\n",
    "print(scripted_fn.code)"
   ]
  },
  {
   "attachments": {},
   "cell_type": "markdown",
   "metadata": {},
   "source": [
    "スクリプトのグラフ表現"
   ]
  },
  {
   "cell_type": "code",
   "execution_count": 9,
   "metadata": {},
   "outputs": [
    {
     "name": "stdout",
     "output_type": "stream",
     "text": [
      "graph(%x.1 : Tensor):\n",
      "  %10 : bool = prim::Constant[value=1]() # C:\\Users\\inoue\\AppData\\Local\\Temp\\ipykernel_17040\\3746942711.py:4:4\n",
      "  %2 : int = prim::Constant[value=0]() # C:\\Users\\inoue\\AppData\\Local\\Temp\\ipykernel_17040\\3746942711.py:3:10\n",
      "  %5 : int = prim::Constant[value=1]() # C:\\Users\\inoue\\AppData\\Local\\Temp\\ipykernel_17040\\3746942711.py:4:19\n",
      "  %y.1 : Tensor = aten::select(%x.1, %2, %2) # C:\\Users\\inoue\\AppData\\Local\\Temp\\ipykernel_17040\\3746942711.py:3:8\n",
      "  %7 : int = aten::size(%x.1, %2) # C:\\Users\\inoue\\AppData\\Local\\Temp\\ipykernel_17040\\3746942711.py:4:22\n",
      "  %9 : int = aten::__range_length(%5, %7, %5) # C:\\Users\\inoue\\AppData\\Local\\Temp\\ipykernel_17040\\3746942711.py:4:4\n",
      "  %y : Tensor = prim::Loop(%9, %10, %y.1) # C:\\Users\\inoue\\AppData\\Local\\Temp\\ipykernel_17040\\3746942711.py:4:4\n",
      "    block0(%11 : int, %y.11 : Tensor):\n",
      "      %i.1 : int = aten::__derive_index(%11, %5, %5) # C:\\Users\\inoue\\AppData\\Local\\Temp\\ipykernel_17040\\3746942711.py:4:4\n",
      "      %19 : Tensor = aten::select(%x.1, %2, %i.1) # C:\\Users\\inoue\\AppData\\Local\\Temp\\ipykernel_17040\\3746942711.py:5:16\n",
      "      %y.5 : Tensor = aten::add(%y.11, %19, %5) # C:\\Users\\inoue\\AppData\\Local\\Temp\\ipykernel_17040\\3746942711.py:5:12\n",
      "      -> (%10, %y.5)\n",
      "  return (%y)\n",
      "\n"
     ]
    }
   ],
   "source": [
    "print(scripted_fn.graph)"
   ]
  },
  {
   "cell_type": "code",
   "execution_count": null,
   "metadata": {},
   "outputs": [],
   "source": []
  }
 ],
 "metadata": {
  "kernelspec": {
   "display_name": "Py39WorkingEnv",
   "language": "python",
   "name": "python3"
  },
  "language_info": {
   "codemirror_mode": {
    "name": "ipython",
    "version": 3
   },
   "file_extension": ".py",
   "mimetype": "text/x-python",
   "name": "python",
   "nbconvert_exporter": "python",
   "pygments_lexer": "ipython3",
   "version": "3.9.16"
  },
  "orig_nbformat": 4
 },
 "nbformat": 4,
 "nbformat_minor": 2
}
