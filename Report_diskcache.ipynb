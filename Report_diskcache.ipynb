{
 "cells": [
  {
   "attachments": {},
   "cell_type": "markdown",
   "metadata": {},
   "source": [
    "## DiskCacheライブラリの使い方\n",
    "+ インメモリではなく, SSDやHDDにキャッシュを作成する\n",
    "+ key-valueデータ構造\n",
    "+ Cacheオブジェクトはスレッドセーフ(プロセスセーフ)\n",
    "+ Cache操作はすべてアトミック\n",
    "+ プロセスフォークに対応(Python Pickle Serializerを利用)"
   ]
  },
  {
   "cell_type": "code",
   "execution_count": 60,
   "metadata": {},
   "outputs": [],
   "source": [
    "from diskcache import Cache\n",
    "\n",
    "cachedir = \"F:/DiskCacheTest/Cache\"\n",
    "cache = Cache(cachedir) # ディレクトリ指定がない場合, 一時ディレクトリが自動的に作成される.\n",
    "cache.close()\n"
   ]
  },
  {
   "attachments": {},
   "cell_type": "markdown",
   "metadata": {},
   "source": [
    "withステートメントに対応"
   ]
  },
  {
   "cell_type": "code",
   "execution_count": 61,
   "metadata": {},
   "outputs": [],
   "source": [
    "with Cache(cache.directory) as reference:\n",
    "    reference.set('key', 'value')"
   ]
  },
  {
   "cell_type": "code",
   "execution_count": 62,
   "metadata": {},
   "outputs": [
    {
     "name": "stdout",
     "output_type": "stream",
     "text": [
      "cache.get('key') value\n"
     ]
    }
   ],
   "source": [
    "print(\"cache.get('key')\", cache.get('key')) # Automatically opens, but slower."
   ]
  },
  {
   "attachments": {},
   "cell_type": "markdown",
   "metadata": {},
   "source": [
    "PythonのDictionary型と同じ操作ができる"
   ]
  },
  {
   "cell_type": "code",
   "execution_count": 63,
   "metadata": {},
   "outputs": [
    {
     "name": "stdout",
     "output_type": "stream",
     "text": [
      "my-value\n"
     ]
    },
    {
     "ename": "KeyError",
     "evalue": "'my-key'",
     "output_type": "error",
     "traceback": [
      "\u001b[1;31m---------------------------------------------------------------------------\u001b[0m",
      "\u001b[1;31mKeyError\u001b[0m                                  Traceback (most recent call last)",
      "Cell \u001b[1;32mIn[63], line 4\u001b[0m\n\u001b[0;32m      2\u001b[0m \u001b[39mprint\u001b[39m(cache[\u001b[39m'\u001b[39m\u001b[39mmy-key\u001b[39m\u001b[39m'\u001b[39m])\n\u001b[0;32m      3\u001b[0m \u001b[39mdel\u001b[39;00m cache[\u001b[39m'\u001b[39m\u001b[39mmy-key\u001b[39m\u001b[39m'\u001b[39m]\n\u001b[1;32m----> 4\u001b[0m \u001b[39mprint\u001b[39m(cache[\u001b[39m'\u001b[39;49m\u001b[39mmy-key\u001b[39;49m\u001b[39m'\u001b[39;49m])\n",
      "File \u001b[1;32mc:\\Users\\InoueShinichi\\anaconda3\\envs\\Py39WorkingEnv\\lib\\site-packages\\diskcache\\core.py:1234\u001b[0m, in \u001b[0;36mCache.__getitem__\u001b[1;34m(self, key)\u001b[0m\n\u001b[0;32m   1232\u001b[0m value \u001b[39m=\u001b[39m \u001b[39mself\u001b[39m\u001b[39m.\u001b[39mget(key, default\u001b[39m=\u001b[39mENOVAL, retry\u001b[39m=\u001b[39m\u001b[39mTrue\u001b[39;00m)\n\u001b[0;32m   1233\u001b[0m \u001b[39mif\u001b[39;00m value \u001b[39mis\u001b[39;00m ENOVAL:\n\u001b[1;32m-> 1234\u001b[0m     \u001b[39mraise\u001b[39;00m \u001b[39mKeyError\u001b[39;00m(key)\n\u001b[0;32m   1235\u001b[0m \u001b[39mreturn\u001b[39;00m value\n",
      "\u001b[1;31mKeyError\u001b[0m: 'my-key'"
     ]
    }
   ],
   "source": [
    "cache['my-key'] = 'my-value'\n",
    "print(cache['my-key'])\n",
    "del cache['my-key']\n",
    "print(cache['my-key'])\n"
   ]
  },
  {
   "attachments": {},
   "cell_type": "markdown",
   "metadata": {},
   "source": [
    "時間制限付きキャッシュ"
   ]
  },
  {
   "cell_type": "code",
   "execution_count": null,
   "metadata": {},
   "outputs": [
    {
     "name": "stdout",
     "output_type": "stream",
     "text": [
      "my-value\n",
      "float\n",
      "data\n"
     ]
    }
   ],
   "source": [
    "from io import BytesIO\n",
    "cache.set('my-key', BytesIO(b'my-value'), expire=5, read=True, tag='data') # expire_time : 5sec\n",
    "\n",
    "result = cache.get('my-key', read=True, expire_time=True, tag=True)\n",
    "reader, timestamp, tag = result\n",
    "print(reader.read().decode())\n",
    "print(type(timestamp).__name__)\n",
    "print(tag)"
   ]
  },
  {
   "attachments": {},
   "cell_type": "markdown",
   "metadata": {},
   "source": [
    "時間制限を超過した場合"
   ]
  },
  {
   "cell_type": "code",
   "execution_count": null,
   "metadata": {},
   "outputs": [
    {
     "ename": "AttributeError",
     "evalue": "'NoneType' object has no attribute 'read'",
     "output_type": "error",
     "traceback": [
      "\u001b[1;31m---------------------------------------------------------------------------\u001b[0m",
      "\u001b[1;31mAttributeError\u001b[0m                            Traceback (most recent call last)",
      "Cell \u001b[1;32mIn[12], line 10\u001b[0m\n\u001b[0;32m      8\u001b[0m result \u001b[39m=\u001b[39m cache\u001b[39m.\u001b[39mget(\u001b[39m'\u001b[39m\u001b[39mmy-key\u001b[39m\u001b[39m'\u001b[39m, read\u001b[39m=\u001b[39m\u001b[39mTrue\u001b[39;00m, expire_time\u001b[39m=\u001b[39m\u001b[39mTrue\u001b[39;00m, tag\u001b[39m=\u001b[39m\u001b[39mTrue\u001b[39;00m) \u001b[39m# read=Trueでファイルオブジェクトとして認識する\u001b[39;00m\n\u001b[0;32m      9\u001b[0m reader, timestamp, tag \u001b[39m=\u001b[39m result \u001b[39m# タプル\u001b[39;00m\n\u001b[1;32m---> 10\u001b[0m \u001b[39mprint\u001b[39m(reader\u001b[39m.\u001b[39;49mread()\u001b[39m.\u001b[39mdecode())\n\u001b[0;32m     11\u001b[0m \u001b[39mprint\u001b[39m(\u001b[39mtype\u001b[39m(timestamp)\u001b[39m.\u001b[39m\u001b[39m__name__\u001b[39m)\n\u001b[0;32m     12\u001b[0m \u001b[39mprint\u001b[39m(tag)\n",
      "\u001b[1;31mAttributeError\u001b[0m: 'NoneType' object has no attribute 'read'"
     ]
    }
   ],
   "source": [
    "from io import BytesIO\n",
    "cache.set('my-key', BytesIO(b'my-value'), expire=5, read=True, tag='data') # expire_time : 5sec\n",
    "\n",
    "from time import sleep\n",
    "\n",
    "sleep(6) # 6sec\n",
    "\n",
    "result = cache.get('my-key', read=True, expire_time=True, tag=True) # read=Trueでファイルオブジェクトとして認識する\n",
    "reader, timestamp, tag = result # タプル\n",
    "print(reader.read().decode())\n",
    "print(type(timestamp).__name__)\n",
    "print(tag)"
   ]
  },
  {
   "attachments": {},
   "cell_type": "markdown",
   "metadata": {},
   "source": [
    "キャッシュオブジェクトの生存時間を更新するには`touch()`メソッドを使用する"
   ]
  },
  {
   "cell_type": "code",
   "execution_count": null,
   "metadata": {},
   "outputs": [
    {
     "data": {
      "text/plain": [
       "False"
      ]
     },
     "execution_count": 13,
     "metadata": {},
     "output_type": "execute_result"
    }
   ],
   "source": [
    "cache.touch('my-key', expire=None)"
   ]
  },
  {
   "cell_type": "code",
   "execution_count": null,
   "metadata": {},
   "outputs": [
    {
     "data": {
      "text/plain": [
       "False"
      ]
     },
     "execution_count": 14,
     "metadata": {},
     "output_type": "execute_result"
    }
   ],
   "source": [
    "cache.touch('dose-not-exist', expire=1) # 1sec"
   ]
  },
  {
   "attachments": {},
   "cell_type": "markdown",
   "metadata": {},
   "source": [
    "+ PythonのSet型と同じ操作ができる\n",
    "+ valueの数値は, `SQLite interger column (64bit-singed integers)`"
   ]
  },
  {
   "cell_type": "code",
   "execution_count": null,
   "metadata": {},
   "outputs": [
    {
     "data": {
      "text/plain": [
       "True"
      ]
     },
     "execution_count": 15,
     "metadata": {},
     "output_type": "execute_result"
    }
   ],
   "source": [
    "cache.add(b'test', 123)"
   ]
  },
  {
   "cell_type": "code",
   "execution_count": null,
   "metadata": {},
   "outputs": [
    {
     "data": {
      "text/plain": [
       "123"
      ]
     },
     "execution_count": 16,
     "metadata": {},
     "output_type": "execute_result"
    }
   ],
   "source": [
    "cache[b'test']"
   ]
  },
  {
   "cell_type": "code",
   "execution_count": null,
   "metadata": {},
   "outputs": [
    {
     "data": {
      "text/plain": [
       "False"
      ]
     },
     "execution_count": 17,
     "metadata": {},
     "output_type": "execute_result"
    }
   ],
   "source": [
    "cache.add(b'test', 456)"
   ]
  },
  {
   "cell_type": "code",
   "execution_count": null,
   "metadata": {},
   "outputs": [
    {
     "data": {
      "text/plain": [
       "123"
      ]
     },
     "execution_count": 19,
     "metadata": {},
     "output_type": "execute_result"
    }
   ],
   "source": [
    "cache[b'test'] # 123 not 456"
   ]
  },
  {
   "attachments": {},
   "cell_type": "markdown",
   "metadata": {},
   "source": [
    "値の加算increment`incr()`メソッドと減算decriment`decr()`メソッド "
   ]
  },
  {
   "cell_type": "code",
   "execution_count": null,
   "metadata": {},
   "outputs": [
    {
     "data": {
      "text/plain": [
       "124"
      ]
     },
     "execution_count": 20,
     "metadata": {},
     "output_type": "execute_result"
    }
   ],
   "source": [
    "cache.incr(b'test') # 123 -> 124"
   ]
  },
  {
   "cell_type": "code",
   "execution_count": null,
   "metadata": {},
   "outputs": [
    {
     "data": {
      "text/plain": [
       "100"
      ]
     },
     "execution_count": 21,
     "metadata": {},
     "output_type": "execute_result"
    }
   ],
   "source": [
    "cache.decr(b'test', 24) # 124 -> 100"
   ]
  },
  {
   "attachments": {},
   "cell_type": "markdown",
   "metadata": {},
   "source": [
    "`default=None`を指定することで, 存在しないkeyに対して`incr()`と`decr()`でKeyErrorを投げることができる"
   ]
  },
  {
   "cell_type": "code",
   "execution_count": null,
   "metadata": {},
   "outputs": [
    {
     "data": {
      "text/plain": [
       "1"
      ]
     },
     "execution_count": 45,
     "metadata": {},
     "output_type": "execute_result"
    }
   ],
   "source": [
    "cache.incr('alice')"
   ]
  },
  {
   "cell_type": "code",
   "execution_count": null,
   "metadata": {},
   "outputs": [
    {
     "data": {
      "text/plain": [
       "-10"
      ]
     },
     "execution_count": 46,
     "metadata": {},
     "output_type": "execute_result"
    }
   ],
   "source": [
    "cache.decr('bob', default=-9) # 下駄=-9"
   ]
  },
  {
   "cell_type": "code",
   "execution_count": null,
   "metadata": {},
   "outputs": [
    {
     "ename": "KeyError",
     "evalue": "'carol'",
     "output_type": "error",
     "traceback": [
      "\u001b[1;31m---------------------------------------------------------------------------\u001b[0m",
      "\u001b[1;31mKeyError\u001b[0m                                  Traceback (most recent call last)",
      "Cell \u001b[1;32mIn[47], line 1\u001b[0m\n\u001b[1;32m----> 1\u001b[0m cache\u001b[39m.\u001b[39;49mincr(\u001b[39m'\u001b[39;49m\u001b[39mcarol\u001b[39;49m\u001b[39m'\u001b[39;49m, default\u001b[39m=\u001b[39;49m\u001b[39mNone\u001b[39;49;00m)\n",
      "File \u001b[1;32mc:\\Users\\InoueShinichi\\anaconda3\\envs\\Py39WorkingEnv\\lib\\site-packages\\diskcache\\core.py:1055\u001b[0m, in \u001b[0;36mCache.incr\u001b[1;34m(self, key, delta, default, retry)\u001b[0m\n\u001b[0;32m   1053\u001b[0m \u001b[39mif\u001b[39;00m \u001b[39mnot\u001b[39;00m rows:\n\u001b[0;32m   1054\u001b[0m     \u001b[39mif\u001b[39;00m default \u001b[39mis\u001b[39;00m \u001b[39mNone\u001b[39;00m:\n\u001b[1;32m-> 1055\u001b[0m         \u001b[39mraise\u001b[39;00m \u001b[39mKeyError\u001b[39;00m(key)\n\u001b[0;32m   1057\u001b[0m     value \u001b[39m=\u001b[39m default \u001b[39m+\u001b[39m delta\n\u001b[0;32m   1058\u001b[0m     columns \u001b[39m=\u001b[39m (\u001b[39mNone\u001b[39;00m, \u001b[39mNone\u001b[39;00m) \u001b[39m+\u001b[39m \u001b[39mself\u001b[39m\u001b[39m.\u001b[39m_disk\u001b[39m.\u001b[39mstore(\n\u001b[0;32m   1059\u001b[0m         value, \u001b[39mFalse\u001b[39;00m, key\u001b[39m=\u001b[39mkey\n\u001b[0;32m   1060\u001b[0m     )\n",
      "\u001b[1;31mKeyError\u001b[0m: 'carol'"
     ]
    }
   ],
   "source": [
    "cache.incr('carol', default=None)"
   ]
  },
  {
   "attachments": {},
   "cell_type": "markdown",
   "metadata": {},
   "source": [
    "`delete()`, `get()`, `pop()`操作"
   ]
  },
  {
   "cell_type": "code",
   "execution_count": null,
   "metadata": {},
   "outputs": [
    {
     "data": {
      "text/plain": [
       "1"
      ]
     },
     "execution_count": 48,
     "metadata": {},
     "output_type": "execute_result"
    }
   ],
   "source": [
    "cache.pop('alice')"
   ]
  },
  {
   "cell_type": "code",
   "execution_count": null,
   "metadata": {},
   "outputs": [
    {
     "data": {
      "text/plain": [
       "'does not exist'"
      ]
     },
     "execution_count": 49,
     "metadata": {},
     "output_type": "execute_result"
    }
   ],
   "source": [
    "cache.pop('dave', default='does not exist')"
   ]
  },
  {
   "cell_type": "code",
   "execution_count": null,
   "metadata": {},
   "outputs": [
    {
     "data": {
      "text/plain": [
       "True"
      ]
     },
     "execution_count": 50,
     "metadata": {},
     "output_type": "execute_result"
    }
   ],
   "source": [
    "cache.set('dave', 0, expire=None, tag='admin')"
   ]
  },
  {
   "cell_type": "code",
   "execution_count": null,
   "metadata": {},
   "outputs": [
    {
     "data": {
      "text/plain": [
       "0"
      ]
     },
     "execution_count": 51,
     "metadata": {},
     "output_type": "execute_result"
    }
   ],
   "source": [
    "cache.get('dave')"
   ]
  },
  {
   "cell_type": "code",
   "execution_count": 64,
   "metadata": {},
   "outputs": [
    {
     "data": {
      "text/plain": [
       "True"
      ]
     },
     "execution_count": 64,
     "metadata": {},
     "output_type": "execute_result"
    }
   ],
   "source": [
    "cache.set('dave', 0, expire=None, tag='admin')"
   ]
  },
  {
   "cell_type": "code",
   "execution_count": 65,
   "metadata": {},
   "outputs": [
    {
     "name": "stdout",
     "output_type": "stream",
     "text": [
      "0\n",
      "None\n",
      "admin\n"
     ]
    }
   ],
   "source": [
    "result = cache.pop('dave', expire_time=True, tag=True) # key`dave`のvalueを取得&削除\n",
    "value, timestampe, tag = result\n",
    "print(value)\n",
    "print(timestamp)\n",
    "print(tag)"
   ]
  },
  {
   "cell_type": "code",
   "execution_count": null,
   "metadata": {},
   "outputs": [],
   "source": [
    "cache.get('dave') # valueがない"
   ]
  },
  {
   "attachments": {},
   "cell_type": "markdown",
   "metadata": {},
   "source": [
    "削除系 `clear()`, `reset()`, `expire()`, `evict()`"
   ]
  },
  {
   "cell_type": "code",
   "execution_count": 66,
   "metadata": {},
   "outputs": [
    {
     "data": {
      "text/plain": [
       "2"
      ]
     },
     "execution_count": 66,
     "metadata": {},
     "output_type": "execute_result"
    }
   ],
   "source": [
    "cache.clear()"
   ]
  },
  {
   "cell_type": "code",
   "execution_count": 67,
   "metadata": {},
   "outputs": [
    {
     "data": {
      "text/plain": [
       "0"
      ]
     },
     "execution_count": 67,
     "metadata": {},
     "output_type": "execute_result"
    }
   ],
   "source": [
    "cache.reset('cull_limit', 0) # Disable automatic evictions(立ち退き)"
   ]
  },
  {
   "cell_type": "code",
   "execution_count": 68,
   "metadata": {},
   "outputs": [],
   "source": [
    "cache.get('cull_limit') # まだkey-valueは存在している"
   ]
  },
  {
   "cell_type": "code",
   "execution_count": 69,
   "metadata": {},
   "outputs": [
    {
     "data": {
      "text/plain": [
       "10"
      ]
     },
     "execution_count": 69,
     "metadata": {},
     "output_type": "execute_result"
    }
   ],
   "source": [
    "for num in range(10):\n",
    "    _ = cache.set(num, num, expire=1e-9) # Expire immediately\n",
    "len(cache)"
   ]
  },
  {
   "cell_type": "code",
   "execution_count": 70,
   "metadata": {},
   "outputs": [
    {
     "data": {
      "text/plain": [
       "[0, 1, 2, 3, 4, 5, 6, 7, 8, 9]"
      ]
     },
     "execution_count": 70,
     "metadata": {},
     "output_type": "execute_result"
    }
   ],
   "source": [
    "list(cache)"
   ]
  },
  {
   "attachments": {},
   "cell_type": "markdown",
   "metadata": {},
   "source": [
    "`expire()`関数でexpiredされたkeyをすべて削除する"
   ]
  },
  {
   "cell_type": "code",
   "execution_count": 71,
   "metadata": {},
   "outputs": [
    {
     "data": {
      "text/plain": [
       "10"
      ]
     },
     "execution_count": 71,
     "metadata": {},
     "output_type": "execute_result"
    }
   ],
   "source": [
    "import time\n",
    "time.sleep(1) # 1sec\n",
    "cache.expire()"
   ]
  },
  {
   "attachments": {},
   "cell_type": "markdown",
   "metadata": {},
   "source": [
    "+ `evict()`関数は, タグにマッチしたkey-valueをすべて削除する. defaultタグは`None`\n",
    "+ タグは, interger, float, string, bytes, Noneがあり得る\n",
    "+ envict()関数を高速化するために, `tag_index=True`でインデックスを作成できる."
   ]
  },
  {
   "cell_type": "code",
   "execution_count": 84,
   "metadata": {},
   "outputs": [
    {
     "name": "stdout",
     "output_type": "stream",
     "text": [
      "duration[ms] 7841.6\n"
     ]
    }
   ],
   "source": [
    "from time import perf_counter_ns\n",
    "\n",
    "cache.clear()\n",
    "\n",
    "tp_start = perf_counter_ns()\n",
    "\n",
    "for num in range(100):\n",
    "    _ = cache.set(num, num, tag='odd' if num % 2 else 'even')\n",
    "cache.evict('even')\n",
    "\n",
    "tp_end = perf_counter_ns()\n",
    "\n",
    "duration = (tp_end - tp_start) / 1000.0\n",
    "print(\"duration[ms]\", duration)"
   ]
  },
  {
   "cell_type": "code",
   "execution_count": 86,
   "metadata": {},
   "outputs": [
    {
     "name": "stdout",
     "output_type": "stream",
     "text": [
      "duration[ms] 9118.6\n"
     ]
    }
   ],
   "source": [
    "cachedir2 = \"F:/DiskCacheTest/TagIndexCache\"\n",
    "cache_with_tag_index = Cache(cachedir2, tag_index=True)\n",
    "\n",
    "cache_with_tag_index.clear()\n",
    "\n",
    "tp_start = perf_counter_ns()\n",
    "\n",
    "for num in range(100):\n",
    "    _ = cache_with_tag_index.set(num, num, tag='odd' if num % 2 else 'even')\n",
    "cache.evict('even') # 処理速度が上昇する?\n",
    "\n",
    "tp_end = perf_counter_ns()\n",
    "\n",
    "duration = (tp_end - tp_start) / 1000.0\n",
    "print(\"duration[ms]\", duration)"
   ]
  },
  {
   "attachments": {},
   "cell_type": "markdown",
   "metadata": {},
   "source": [
    "`tag_index`の作成と削除"
   ]
  },
  {
   "cell_type": "code",
   "execution_count": 74,
   "metadata": {},
   "outputs": [],
   "source": [
    "cache.drop_tag_index()"
   ]
  },
  {
   "cell_type": "code",
   "execution_count": 75,
   "metadata": {},
   "outputs": [],
   "source": [
    "cache.create_tag_index()"
   ]
  },
  {
   "cell_type": "code",
   "execution_count": null,
   "metadata": {},
   "outputs": [],
   "source": []
  }
 ],
 "metadata": {
  "kernelspec": {
   "display_name": "Py39WorkingEnv",
   "language": "python",
   "name": "python3"
  },
  "language_info": {
   "codemirror_mode": {
    "name": "ipython",
    "version": 3
   },
   "file_extension": ".py",
   "mimetype": "text/x-python",
   "name": "python",
   "nbconvert_exporter": "python",
   "pygments_lexer": "ipython3",
   "version": "3.9.16"
  },
  "orig_nbformat": 4
 },
 "nbformat": 4,
 "nbformat_minor": 2
}
