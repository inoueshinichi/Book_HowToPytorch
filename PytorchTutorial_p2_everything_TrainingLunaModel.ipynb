{
 "cells": [
  {
   "attachments": {},
   "cell_type": "markdown",
   "metadata": {},
   "source": [
    "# Lunaモデルの学習"
   ]
  },
  {
   "attachments": {},
   "cell_type": "markdown",
   "metadata": {},
   "source": [
    "### Lunaサイト\n",
    "https://luna16.grand-challenge.org/Description/"
   ]
  },
  {
   "attachments": {},
   "cell_type": "markdown",
   "metadata": {},
   "source": [
    "### データセット概要\n",
    "アーカイブを展開した状態のすべてのデータで約220GBを必要とする.  \n",
    "+ annotations.csv\n",
    "+ candidates.csv\n",
    "+ sampleSubmission.csv\n",
    "+ candidates_V2.zip\n",
    "+ evaluationScript.zip\n",
    "+ seg-lungs-LUNA16.zip\n",
    "1. subset0.zip\n",
    "2. subset1.zip\n",
    "3. subset2.zip\n",
    "4. subset3.zip\n",
    "5. subset4.zip\n",
    "6. subset5.zip\n",
    "7. subset6.zip\n",
    "8. subset7.zip\n",
    "9. subset8.zip\n",
    "10. subset10.zip\n",
    "\n",
    "### subsetの中身\n",
    "+ series_uidをユニークIDとして*.mhdと*.rawの2種類のファイルがある"
   ]
  },
  {
   "cell_type": "code",
   "execution_count": 4,
   "metadata": {},
   "outputs": [],
   "source": [
    "\n",
    "import datetime\n",
    "from p2_ct_project.util.logconf import logging\n",
    "log = logging.getLogger('nb')\n",
    "# log.setLevel(logging.WARN)\n",
    "log.setLevel(logging.INFO)\n",
    "log.setLevel(logging.DEBUG)\n",
    "\n",
    "from p2_ct_project.util.util import importstr\n",
    "\n",
    "# run_everything\n",
    "def run(app, *argv):\n",
    "    argv = list(argv)\n",
    "    argv.insert(0, '--num-workers=8')\n",
    "    # 4コア8スレッドのCPUを仮定\n",
    "    log.info(\"Running: {}({!r}).main()\".format(app, argv))\n",
    "    print(\"*app.rsplit('.', 1) : \", *app.rsplit('.', 1))\n",
    "\n",
    "    app_cls = importstr(*app.rsplit('.', 1)) # __import__を実行\n",
    "    app_cls(argv).main()\n",
    "\n",
    "    log.info(\"Finished: {}.({!r}).main()\".format(app, argv))"
   ]
  },
  {
   "cell_type": "code",
   "execution_count": 5,
   "metadata": {},
   "outputs": [],
   "source": [
    "import os\n",
    "import shutil\n",
    "\n",
    "# clean up any old data that might be around.\n",
    "# We don't call this by default because it's destructive, \n",
    "# and would waste a lot of time if it ran when nothing \n",
    "# on the application side had changed.\n",
    "tag_version = \"unversioned\"\n",
    "cache_dir = f\"F:/Luna16/cache/{tag_version}\"\n",
    "def cleanCache():\n",
    "    shutil.rmtree(cache_dir)\n",
    "    os.mkdir(cache_dir)\n",
    "\n",
    "# cleanCache()"
   ]
  },
  {
   "attachments": {},
   "cell_type": "markdown",
   "metadata": {},
   "source": [
    "Fancacheのclose"
   ]
  },
  {
   "cell_type": "code",
   "execution_count": 6,
   "metadata": {},
   "outputs": [],
   "source": [
    "from p2_ct_project.p2ch10.dataset_luna import raw_cache\n",
    "raw_cache.close()\n",
    "\n",
    "from p2_ct_project.p2ch12.mod_dataset_luna import raw_cache\n",
    "raw_cache.close()\n",
    "\n",
    "from p2_ct_project.p2ch13.dataset_luna_seg import raw_cache\n",
    "raw_cache.close()"
   ]
  },
  {
   "attachments": {},
   "cell_type": "markdown",
   "metadata": {},
   "source": [
    "### 各チャプターで共通の学習設定"
   ]
  },
  {
   "cell_type": "code",
   "execution_count": 7,
   "metadata": {},
   "outputs": [],
   "source": [
    "experiment_epochs = 2\n",
    "training_epochs = 20\n",
    "final_epochs = 50\n",
    "seg_epochs = 10"
   ]
  },
  {
   "attachments": {},
   "cell_type": "markdown",
   "metadata": {},
   "source": [
    "# Chapter11"
   ]
  },
  {
   "attachments": {},
   "cell_type": "markdown",
   "metadata": {},
   "source": [
    "### デフォルト設定で学習"
   ]
  },
  {
   "cell_type": "code",
   "execution_count": 8,
   "metadata": {},
   "outputs": [],
   "source": [
    "# run('p2_ct_project.p2ch11.prepcache_luna.LunaPrepCacheApp', '--datasetdir=E:/Luna16')"
   ]
  },
  {
   "cell_type": "code",
   "execution_count": 9,
   "metadata": {},
   "outputs": [],
   "source": [
    "# run('p2_ct_project.p2ch11.training_luna.LunaTrainingApp', '--datasetdir=E:/Luna16', '--epochs=1')"
   ]
  },
  {
   "attachments": {},
   "cell_type": "markdown",
   "metadata": {},
   "source": [
    "# Chapter12\n",
    "+ 陽性サンプルと陰性サンプルの均一化"
   ]
  },
  {
   "attachments": {},
   "cell_type": "markdown",
   "metadata": {},
   "source": [
    "## 結節データをかさ増しする\n",
    "+ LunaDatasetの結節候補データは, 結節でないデータと結節データの比率が均等でない\n",
    "\n",
    "### 課題\n",
    "+ ラベルが均等でないデータセットでは, 学習時にデータ比率が大きいラベル側にNNモデルが引っ張られ, 推論でデータ比率の大きなラベルばかりを推論結果として出力してしまう.\n",
    "\n",
    "### 解決策\n",
    "1. 学習時は, 各ラベルのデータ数を均等にする. \n",
    "2. 損失関数で, 比率の小さいラベルデータに対して更新勾配(誤差)を大きくする処理を追加する\n",
    "\n",
    "#### 今回は比率の小さいラベルデータをかさ増しする"
   ]
  },
  {
   "attachments": {},
   "cell_type": "markdown",
   "metadata": {},
   "source": [
    "### 結節データ(比率の小さいラベルデータ)のかさ増しをする方法\n",
    "1. PytorchのDataLoader関数の`sampler=...`オプションを使用する方法. <br> データセットの元々のイテレーション順序を上書きすることができ, <br> 特定のサンプルの抽出を制限したり, 逆に複数回抽出することが可能. これはデータセット自体をコントロールできない場合に非常に有効.\n",
    "2. 直接データセットをコントロールできる場合, Datasetクラスのサブクラスの中で, 必要となるデータを再構成して, かさ増しする."
   ]
  },
  {
   "attachments": {},
   "cell_type": "markdown",
   "metadata": {},
   "source": [
    "### データセット内でクラスバランスを調整する\n",
    "+ LunaDataset内に追加の実装を行い, 訓練セットの陽性サンプル数と陰性サンプル数が1対1になるように変更する"
   ]
  },
  {
   "cell_type": "code",
   "execution_count": 10,
   "metadata": {},
   "outputs": [],
   "source": [
    "# run('p2_ct_project.p2ch12.prepcache_luna.LunaPrepCacheApp', '--datasetdir=E:/Luna16')"
   ]
  },
  {
   "cell_type": "code",
   "execution_count": 11,
   "metadata": {},
   "outputs": [],
   "source": [
    "# run('p2_ct_project.p2ch12.mod_training_luna.LunatrainingApp', '--datasetdir=E:/Luna16', '--epochs=1', 'unbalanced')"
   ]
  },
  {
   "cell_type": "code",
   "execution_count": 12,
   "metadata": {},
   "outputs": [],
   "source": [
    "# データサンプルの調整\n",
    "# run('p2_ct_project.p2ch12.mod_training_luna.LunaTrainingApp', '--datasetdir=E:/Luna16', f'--epochs=1', '--balanced', 'balanced')"
   ]
  },
  {
   "cell_type": "code",
   "execution_count": 13,
   "metadata": {},
   "outputs": [],
   "source": [
    "# import numpy as np\n",
    "# a = np.empty((1, 100), dtype=np.float32) > 0.5\n",
    "# print(a)\n",
    "# ans = np.sum(a)\n",
    "# print(ans)"
   ]
  },
  {
   "attachments": {},
   "cell_type": "markdown",
   "metadata": {},
   "source": [
    "### データ拡張の結果を比較する"
   ]
  },
  {
   "cell_type": "code",
   "execution_count": 14,
   "metadata": {},
   "outputs": [],
   "source": [
    "# データサンプルの調整\n",
    "# run('p2_ct_project.p2ch12.mod_training_luna.LunaTrainingApp', '--datasetdir=E:/Luna16', f'--epochs={training_epochs}', '--balanced', 'balanced')"
   ]
  },
  {
   "cell_type": "code",
   "execution_count": 15,
   "metadata": {},
   "outputs": [],
   "source": [
    "# データ拡張　フリップ\n",
    "# run('p2_ct_project.p2ch12.mod_training_luna.LunaTrainingApp', f'--epochs={training_epochs}', '--balanced', '--augment-flip', 'flip')"
   ]
  },
  {
   "cell_type": "code",
   "execution_count": 16,
   "metadata": {},
   "outputs": [],
   "source": [
    "# データ拡張 平行移動\n",
    "# run('p2_ct_project.p2ch12.mod_training_luna.LunaTrainingApp', f'--epochs={training_epochs}', '--balanced', '--augment-offset', 'offset')"
   ]
  },
  {
   "cell_type": "code",
   "execution_count": 17,
   "metadata": {},
   "outputs": [],
   "source": [
    "# データ拡張 スケール\n",
    "# run('p2_ct_project.p2ch12.mod_training_luna.LunaTrainingApp', f'--epochs={training_epochs}', '--balanced', '--augment-scale', 'scale')"
   ]
  },
  {
   "cell_type": "code",
   "execution_count": 18,
   "metadata": {},
   "outputs": [],
   "source": [
    "# データ拡張　回転\n",
    "# run('p2_ct_project.p2ch12.mod_training_luna.LunaTrainingApp', f'--epochs={training_epochs}', '--balanced', '--augment-rotate', 'rotate')"
   ]
  },
  {
   "cell_type": "code",
   "execution_count": 19,
   "metadata": {},
   "outputs": [],
   "source": [
    "# データ拡張　ノイズ付加\n",
    "# run('p2_ct_project.p2ch12.mod_training_luna.LunaTrainingApp', f'--epochs={training_epochs}', '--balanced', '--augment-noise', 'noise')"
   ]
  },
  {
   "cell_type": "code",
   "execution_count": 20,
   "metadata": {},
   "outputs": [],
   "source": [
    "# データ拡張　フリップ, 平行移動, スケール, 回転, ノイズ付加\n",
    "# run('p2_ct_project.p2ch12.mod_training_luna.LunaTrainingApp', f'--epochs={training_epochs}', '--balanced', '--augmented', 'fully-augmented')"
   ]
  },
  {
   "attachments": {},
   "cell_type": "markdown",
   "metadata": {},
   "source": [
    "# Chapter13"
   ]
  },
  {
   "attachments": {},
   "cell_type": "markdown",
   "metadata": {},
   "source": [
    "セマンティックセグメンテーションモデルによる結節候補の推論"
   ]
  },
  {
   "cell_type": "code",
   "execution_count": 21,
   "metadata": {},
   "outputs": [],
   "source": [
    "# 加工データセットのキャッシュを作成\n",
    "# run('p2_ct_project.p2ch13.prepcache_luna_seg.LunaSegPrepCacheApp')"
   ]
  },
  {
   "cell_type": "code",
   "execution_count": 23,
   "metadata": {},
   "outputs": [
    {
     "name": "stderr",
     "output_type": "stream",
     "text": [
      "2023-06-05 00:38:45,901 INFO     pid:8296 nb:015:run Running: p2_ct_project.p2ch13.training_luna_seg.SegmentationTrainingApp(['--num-workers=8', '--epochs=2', '--augmented', '--datasetdir=E:/Luna16']).main()\n",
      "2023-06-05 00:38:45,922 INFO     pid:8296 p2_ct_project.p2ch13.training_luna_seg:169:initModel Using CUDA; 1 devices.\n",
      "2023-06-05 00:38:46,004 INFO     pid:8296 p2_ct_project.p2ch13.training_luna_seg:238:main Starting SegmentationTrainingApp, Namespace(batch_size=16, num_workers=8, epochs=2, augmented=True, augment_flip=False, augment_offset=False, augment_scale=False, augment_rotate=False, augment_noise=False, tb_prefix='p2ch13', comment='none', datasetdir='E:/Luna16')\n"
     ]
    },
    {
     "name": "stdout",
     "output_type": "stream",
     "text": [
      "*app.rsplit('.', 1) :  p2_ct_project.p2ch13.training_luna_seg SegmentationTrainingApp\n",
      "module:  <module 'p2_ct_project' (namespace)>\n"
     ]
    },
    {
     "name": "stderr",
     "output_type": "stream",
     "text": [
      "2023-06-05 00:38:51,947 INFO     pid:8296 p2ch13.dataset_luna_seg:393:__init__ <p2ch13.dataset_luna_seg.TrainingLuna2dSegmentationDataset object at 0x000002A3869558E0>: 799 training seires, 8343 slices, 1028 nodules\n",
      "2023-06-05 00:38:52,089 INFO     pid:8296 p2ch13.dataset_luna_seg:393:__init__ <p2ch13.dataset_luna_seg.Luna2dSegmentationDataset object at 0x000002A38709E070>: 89 validation seires, 1122 slices, 154 nodules\n",
      "2023-06-05 00:38:52,089 INFO     pid:8296 p2_ct_project.p2ch13.training_luna_seg:246:main Epoch 1 of 2, 18750/71 batches of size 16*1\n",
      "2023-06-05 00:38:53,126 WARNING  pid:8296 util.util:226:enumerateWithEstimate E1 Training  ----/18750, starting\n",
      "2023-06-05 00:39:19,683 INFO     pid:8296 util.util:243:enumerateWithEstimate E1 Training   256/18750, done at 2023-06-05 00:41:32, 0:02:14\n",
      "2023-06-05 00:39:32,502 INFO     pid:8296 util.util:243:enumerateWithEstimate E1 Training  2048/18750, done at 2023-06-05 00:41:32, 0:02:14\n",
      "2023-06-05 00:41:15,365 INFO     pid:8296 util.util:243:enumerateWithEstimate E1 Training  16384/18750, done at 2023-06-05 00:41:32, 0:02:14\n",
      "2023-06-05 00:41:35,161 WARNING  pid:8296 util.util:256:enumerateWithEstimate E1 Training  ----/18750, done at 2023-06-05 00:41:35\n",
      "2023-06-05 00:41:35,167 INFO     pid:8296 p2_ct_project.p2ch13.training_luna_seg:486:logMetrics E1 SegmentationTrainingApp\n",
      "2023-06-05 00:41:35,176 INFO     pid:8296 p2_ct_project.p2ch13.training_luna_seg:509:logMetrics E1 trn      0.5191 loss, 0.2469 precision, 0.9320 recall, 0.3904 f1 score\n",
      "2023-06-05 00:41:35,176 INFO     pid:8296 p2_ct_project.p2ch13.training_luna_seg:520:logMetrics E1 trn_all  0.5191 loss,  93.2% tp,   6.8% fn,     284.3% fp\n",
      "2023-06-05 00:41:35,184 WARNING  pid:8296 util.util:226:enumerateWithEstimate E1 Validation  ----/71, starting\n",
      "2023-06-05 00:42:05,276 INFO     pid:8296 util.util:243:enumerateWithEstimate E1 Validation    16/71, done at 2023-06-05 00:42:13, 0:00:09\n",
      "2023-06-05 00:42:17,450 INFO     pid:8296 util.util:243:enumerateWithEstimate E1 Validation    32/71, done at 2023-06-05 00:42:37, 0:00:33\n",
      "2023-06-05 00:42:42,337 INFO     pid:8296 util.util:243:enumerateWithEstimate E1 Validation    64/71, done at 2023-06-05 00:42:46, 0:00:42\n",
      "2023-06-05 00:42:46,910 WARNING  pid:8296 util.util:256:enumerateWithEstimate E1 Validation  ----/71, done at 2023-06-05 00:42:46\n",
      "2023-06-05 00:42:46,911 INFO     pid:8296 p2_ct_project.p2ch13.training_luna_seg:486:logMetrics E1 SegmentationTrainingApp\n",
      "2023-06-05 00:42:46,911 INFO     pid:8296 p2_ct_project.p2ch13.training_luna_seg:509:logMetrics E1 val      0.9726 loss, 0.0133 precision, 0.8299 recall, 0.0263 f1 score\n",
      "2023-06-05 00:42:46,912 INFO     pid:8296 p2_ct_project.p2ch13.training_luna_seg:520:logMetrics E1 val_all  0.9726 loss,  83.0% tp,  17.0% fn,    6136.7% fp\n",
      "2023-06-05 00:42:46,925 INFO     pid:8296 p2_ct_project.p2ch13.training_luna_seg:580:saveModel Saved model params to models\\p2ch13\\data-unversioned\\seg_2023-06-05_00.38.45_none.300000.state\n",
      "2023-06-05 00:42:46,935 INFO     pid:8296 p2_ct_project.p2ch13.training_luna_seg:591:saveModel Saved model params to models\\p2ch13\\data-unversioned\\seg_2023-06-05_00.38.45_none.best.state\n",
      "2023-06-05 00:42:46,936 INFO     pid:8296 p2_ct_project.p2ch13.training_luna_seg:594:saveModel SHA1: a427ba623fd7cf68ea9638c329baf58045fb2c85\n",
      "2023-06-05 00:43:19,152 INFO     pid:8296 p2_ct_project.p2ch13.training_luna_seg:246:main Epoch 2 of 2, 18750/71 batches of size 16*1\n",
      "2023-06-05 00:43:19,351 WARNING  pid:8296 util.util:226:enumerateWithEstimate E2 Training  ----/18750, starting\n",
      "2023-06-05 00:43:45,114 INFO     pid:8296 util.util:243:enumerateWithEstimate E2 Training   256/18750, done at 2023-06-05 00:45:58, 0:02:14\n",
      "2023-06-05 00:43:57,968 INFO     pid:8296 util.util:243:enumerateWithEstimate E2 Training  2048/18750, done at 2023-06-05 00:45:57, 0:02:14\n",
      "2023-06-05 00:45:43,048 INFO     pid:8296 util.util:243:enumerateWithEstimate E2 Training  16384/18750, done at 2023-06-05 00:46:00, 0:02:17\n",
      "2023-06-05 00:46:03,637 WARNING  pid:8296 util.util:256:enumerateWithEstimate E2 Training  ----/18750, done at 2023-06-05 00:46:03\n",
      "2023-06-05 00:46:03,643 INFO     pid:8296 p2_ct_project.p2ch13.training_luna_seg:486:logMetrics E2 SegmentationTrainingApp\n",
      "2023-06-05 00:46:03,648 INFO     pid:8296 p2_ct_project.p2ch13.training_luna_seg:509:logMetrics E2 trn      0.3470 loss, 0.4458 precision, 0.9139 recall, 0.5993 f1 score\n",
      "2023-06-05 00:46:03,648 INFO     pid:8296 p2_ct_project.p2ch13.training_luna_seg:520:logMetrics E2 trn_all  0.3470 loss,  91.4% tp,   8.6% fn,     113.6% fp\n",
      "2023-06-05 00:46:03,663 INFO     pid:8296 nb:021:run Finished: p2_ct_project.p2ch13.training_luna_seg.SegmentationTrainingApp.(['--num-workers=8', '--epochs=2', '--augmented', '--datasetdir=E:/Luna16']).main()\n"
     ]
    }
   ],
   "source": [
    "datasetdir = 'E:/Luna16'\n",
    "run('p2_ct_project.p2ch13.training_luna_seg.SegmentationTrainingApp', \n",
    "    f'--epochs={experiment_epochs}', \n",
    "    '--augmented', \n",
    "    f'--datasetdir={datasetdir}'\n",
    "    )"
   ]
  },
  {
   "cell_type": "code",
   "execution_count": 24,
   "metadata": {},
   "outputs": [
    {
     "name": "stderr",
     "output_type": "stream",
     "text": [
      "2023-06-05 00:46:03,718 INFO     pid:8296 nb:015:run Running: p2_ct_project.p2ch13.training_luna_seg.SegmentationTrainingApp(['--num-workers=8', '--epochs=10', '--augmented', 'final-seg', '--datasetdir=E:/Luna16']).main()\n",
      "2023-06-05 00:46:03,721 INFO     pid:8296 p2_ct_project.p2ch13.training_luna_seg:169:initModel Using CUDA; 1 devices.\n",
      "2023-06-05 00:46:03,725 INFO     pid:8296 p2_ct_project.p2ch13.training_luna_seg:238:main Starting SegmentationTrainingApp, Namespace(batch_size=16, num_workers=8, epochs=10, augmented=True, augment_flip=False, augment_offset=False, augment_scale=False, augment_rotate=False, augment_noise=False, tb_prefix='p2ch13', comment='final-seg', datasetdir='E:/Luna16')\n"
     ]
    },
    {
     "name": "stdout",
     "output_type": "stream",
     "text": [
      "*app.rsplit('.', 1) :  p2_ct_project.p2ch13.training_luna_seg SegmentationTrainingApp\n",
      "module:  <module 'p2_ct_project' (namespace)>\n"
     ]
    },
    {
     "name": "stderr",
     "output_type": "stream",
     "text": [
      "2023-06-05 00:46:04,014 INFO     pid:8296 p2ch13.dataset_luna_seg:393:__init__ <p2ch13.dataset_luna_seg.TrainingLuna2dSegmentationDataset object at 0x000002A38709EB80>: 799 training seires, 8343 slices, 1028 nodules\n",
      "2023-06-05 00:46:04,188 INFO     pid:8296 p2ch13.dataset_luna_seg:393:__init__ <p2ch13.dataset_luna_seg.Luna2dSegmentationDataset object at 0x000002A3869554F0>: 89 validation seires, 1122 slices, 154 nodules\n",
      "2023-06-05 00:46:04,188 INFO     pid:8296 p2_ct_project.p2ch13.training_luna_seg:246:main Epoch 1 of 10, 18750/71 batches of size 16*1\n",
      "2023-06-05 00:46:04,402 WARNING  pid:8296 util.util:226:enumerateWithEstimate E1 Training  ----/18750, starting\n",
      "2023-06-05 00:46:31,204 INFO     pid:8296 util.util:243:enumerateWithEstimate E1 Training   256/18750, done at 2023-06-05 00:48:51, 0:02:22\n",
      "2023-06-05 00:46:44,593 INFO     pid:8296 util.util:243:enumerateWithEstimate E1 Training  2048/18750, done at 2023-06-05 00:48:49, 0:02:20\n",
      "2023-06-05 00:48:31,776 INFO     pid:8296 util.util:243:enumerateWithEstimate E1 Training  16384/18750, done at 2023-06-05 00:48:49, 0:02:20\n",
      "2023-06-05 00:48:52,627 WARNING  pid:8296 util.util:256:enumerateWithEstimate E1 Training  ----/18750, done at 2023-06-05 00:48:52\n",
      "2023-06-05 00:48:52,633 INFO     pid:8296 p2_ct_project.p2ch13.training_luna_seg:486:logMetrics E1 SegmentationTrainingApp\n",
      "2023-06-05 00:48:52,639 INFO     pid:8296 p2_ct_project.p2ch13.training_luna_seg:509:logMetrics E1 trn      0.4982 loss, 0.2551 precision, 0.9279 recall, 0.4002 f1 score\n",
      "2023-06-05 00:48:52,639 INFO     pid:8296 p2_ct_project.p2ch13.training_luna_seg:520:logMetrics E1 trn_all  0.4982 loss,  92.8% tp,   7.2% fn,     270.9% fp\n",
      "2023-06-05 00:48:52,644 WARNING  pid:8296 util.util:226:enumerateWithEstimate E1 Validation  ----/71, starting\n",
      "2023-06-05 00:49:24,190 INFO     pid:8296 util.util:243:enumerateWithEstimate E1 Validation    16/71, done at 2023-06-05 00:49:35, 0:00:13\n",
      "2023-06-05 00:49:36,543 INFO     pid:8296 util.util:243:enumerateWithEstimate E1 Validation    32/71, done at 2023-06-05 00:49:58, 0:00:35\n",
      "2023-06-05 00:50:01,143 INFO     pid:8296 util.util:243:enumerateWithEstimate E1 Validation    64/71, done at 2023-06-05 00:50:05, 0:00:42\n",
      "2023-06-05 00:50:09,144 WARNING  pid:8296 util.util:256:enumerateWithEstimate E1 Validation  ----/71, done at 2023-06-05 00:50:09\n",
      "2023-06-05 00:50:09,145 INFO     pid:8296 p2_ct_project.p2ch13.training_luna_seg:486:logMetrics E1 SegmentationTrainingApp\n",
      "2023-06-05 00:50:09,146 INFO     pid:8296 p2_ct_project.p2ch13.training_luna_seg:509:logMetrics E1 val      0.9643 loss, 0.0155 precision, 0.8636 recall, 0.0305 f1 score\n",
      "2023-06-05 00:50:09,146 INFO     pid:8296 p2_ct_project.p2ch13.training_luna_seg:520:logMetrics E1 val_all  0.9643 loss,  86.4% tp,  13.6% fn,    5473.6% fp\n",
      "2023-06-05 00:50:09,158 INFO     pid:8296 p2_ct_project.p2ch13.training_luna_seg:580:saveModel Saved model params to models\\p2ch13\\data-unversioned\\seg_2023-06-05_00.46.03_final-seg.300000.state\n",
      "2023-06-05 00:50:09,169 INFO     pid:8296 p2_ct_project.p2ch13.training_luna_seg:591:saveModel Saved model params to models\\p2ch13\\data-unversioned\\seg_2023-06-05_00.46.03_final-seg.best.state\n",
      "2023-06-05 00:50:09,171 INFO     pid:8296 p2_ct_project.p2ch13.training_luna_seg:594:saveModel SHA1: 5242420153cae03edfabcf8cdc26b4a78cf065fb\n",
      "2023-06-05 00:50:50,272 INFO     pid:8296 p2_ct_project.p2ch13.training_luna_seg:246:main Epoch 2 of 10, 18750/71 batches of size 16*1\n",
      "2023-06-05 00:50:50,459 WARNING  pid:8296 util.util:226:enumerateWithEstimate E2 Training  ----/18750, starting\n",
      "2023-06-05 00:51:16,506 INFO     pid:8296 util.util:243:enumerateWithEstimate E2 Training   256/18750, done at 2023-06-05 00:53:32, 0:02:17\n",
      "2023-06-05 00:51:29,347 INFO     pid:8296 util.util:243:enumerateWithEstimate E2 Training  2048/18750, done at 2023-06-05 00:53:29, 0:02:14\n",
      "2023-06-05 00:53:12,723 INFO     pid:8296 util.util:243:enumerateWithEstimate E2 Training  16384/18750, done at 2023-06-05 00:53:29, 0:02:15\n",
      "2023-06-05 00:53:32,377 WARNING  pid:8296 util.util:256:enumerateWithEstimate E2 Training  ----/18750, done at 2023-06-05 00:53:32\n",
      "2023-06-05 00:53:32,384 INFO     pid:8296 p2_ct_project.p2ch13.training_luna_seg:486:logMetrics E2 SegmentationTrainingApp\n",
      "2023-06-05 00:53:32,388 INFO     pid:8296 p2_ct_project.p2ch13.training_luna_seg:509:logMetrics E2 trn      0.3321 loss, 0.4647 precision, 0.9168 recall, 0.6168 f1 score\n",
      "2023-06-05 00:53:32,389 INFO     pid:8296 p2_ct_project.p2ch13.training_luna_seg:520:logMetrics E2 trn_all  0.3321 loss,  91.7% tp,   8.3% fn,     105.6% fp\n",
      "2023-06-05 00:53:32,391 INFO     pid:8296 p2_ct_project.p2ch13.training_luna_seg:246:main Epoch 3 of 10, 18750/71 batches of size 16*1\n",
      "2023-06-05 00:53:32,573 WARNING  pid:8296 util.util:226:enumerateWithEstimate E3 Training  ----/18750, starting\n",
      "2023-06-05 00:53:57,971 INFO     pid:8296 util.util:243:enumerateWithEstimate E3 Training   256/18750, done at 2023-06-05 00:56:09, 0:02:13\n",
      "2023-06-05 00:54:11,020 INFO     pid:8296 util.util:243:enumerateWithEstimate E3 Training  2048/18750, done at 2023-06-05 00:56:12, 0:02:16\n",
      "2023-06-05 00:55:57,139 INFO     pid:8296 util.util:243:enumerateWithEstimate E3 Training  16384/18750, done at 2023-06-05 00:56:14, 0:02:18\n",
      "2023-06-05 00:56:17,318 WARNING  pid:8296 util.util:256:enumerateWithEstimate E3 Training  ----/18750, done at 2023-06-05 00:56:17\n",
      "2023-06-05 00:56:17,325 INFO     pid:8296 p2_ct_project.p2ch13.training_luna_seg:486:logMetrics E3 SegmentationTrainingApp\n",
      "2023-06-05 00:56:17,332 INFO     pid:8296 p2_ct_project.p2ch13.training_luna_seg:509:logMetrics E3 trn      0.3018 loss, 0.5056 precision, 0.9188 recall, 0.6523 f1 score\n",
      "2023-06-05 00:56:17,332 INFO     pid:8296 p2_ct_project.p2ch13.training_luna_seg:520:logMetrics E3 trn_all  0.3018 loss,  91.9% tp,   8.1% fn,      89.8% fp\n",
      "2023-06-05 00:56:17,335 INFO     pid:8296 p2_ct_project.p2ch13.training_luna_seg:246:main Epoch 4 of 10, 18750/71 batches of size 16*1\n",
      "2023-06-05 00:56:17,542 WARNING  pid:8296 util.util:226:enumerateWithEstimate E4 Training  ----/18750, starting\n",
      "2023-06-05 00:56:43,099 INFO     pid:8296 util.util:243:enumerateWithEstimate E4 Training   256/18750, done at 2023-06-05 00:58:56, 0:02:15\n",
      "2023-06-05 00:56:56,424 INFO     pid:8296 util.util:243:enumerateWithEstimate E4 Training  2048/18750, done at 2023-06-05 00:59:00, 0:02:18\n",
      "2023-06-05 00:58:41,814 INFO     pid:8296 util.util:243:enumerateWithEstimate E4 Training  16384/18750, done at 2023-06-05 00:58:59, 0:02:17\n",
      "2023-06-05 00:59:02,075 WARNING  pid:8296 util.util:256:enumerateWithEstimate E4 Training  ----/18750, done at 2023-06-05 00:59:02\n",
      "2023-06-05 00:59:02,082 INFO     pid:8296 p2_ct_project.p2ch13.training_luna_seg:486:logMetrics E4 SegmentationTrainingApp\n",
      "2023-06-05 00:59:02,086 INFO     pid:8296 p2_ct_project.p2ch13.training_luna_seg:509:logMetrics E4 trn      0.2847 loss, 0.5242 precision, 0.9205 recall, 0.6680 f1 score\n",
      "2023-06-05 00:59:02,087 INFO     pid:8296 p2_ct_project.p2ch13.training_luna_seg:520:logMetrics E4 trn_all  0.2847 loss,  92.0% tp,   8.0% fn,      83.5% fp\n",
      "2023-06-05 00:59:02,090 INFO     pid:8296 p2_ct_project.p2ch13.training_luna_seg:246:main Epoch 5 of 10, 18750/71 batches of size 16*1\n",
      "2023-06-05 00:59:02,288 WARNING  pid:8296 util.util:226:enumerateWithEstimate E5 Training  ----/18750, starting\n",
      "2023-06-05 00:59:28,199 INFO     pid:8296 util.util:243:enumerateWithEstimate E5 Training   256/18750, done at 2023-06-05 01:01:42, 0:02:16\n",
      "2023-06-05 00:59:41,351 INFO     pid:8296 util.util:243:enumerateWithEstimate E5 Training  2048/18750, done at 2023-06-05 01:01:43, 0:02:17\n",
      "2023-06-05 01:01:24,905 INFO     pid:8296 util.util:243:enumerateWithEstimate E5 Training  16384/18750, done at 2023-06-05 01:01:42, 0:02:15\n",
      "2023-06-05 01:01:44,827 WARNING  pid:8296 util.util:256:enumerateWithEstimate E5 Training  ----/18750, done at 2023-06-05 01:01:44\n",
      "2023-06-05 01:01:44,834 INFO     pid:8296 p2_ct_project.p2ch13.training_luna_seg:486:logMetrics E5 SegmentationTrainingApp\n",
      "2023-06-05 01:01:44,840 INFO     pid:8296 p2_ct_project.p2ch13.training_luna_seg:509:logMetrics E5 trn      0.2803 loss, 0.5353 precision, 0.9198 recall, 0.6768 f1 score\n",
      "2023-06-05 01:01:44,840 INFO     pid:8296 p2_ct_project.p2ch13.training_luna_seg:520:logMetrics E5 trn_all  0.2803 loss,  92.0% tp,   8.0% fn,      79.8% fp\n",
      "2023-06-05 01:01:44,843 WARNING  pid:8296 util.util:226:enumerateWithEstimate E5 Validation  ----/71, starting\n",
      "2023-06-05 01:02:15,195 INFO     pid:8296 util.util:243:enumerateWithEstimate E5 Validation    16/71, done at 2023-06-05 01:02:29, 0:00:16\n",
      "2023-06-05 01:02:27,155 INFO     pid:8296 util.util:243:enumerateWithEstimate E5 Validation    32/71, done at 2023-06-05 01:02:48, 0:00:36\n",
      "2023-06-05 01:02:55,166 INFO     pid:8296 util.util:243:enumerateWithEstimate E5 Validation    64/71, done at 2023-06-05 01:02:59, 0:00:46\n",
      "2023-06-05 01:03:00,204 WARNING  pid:8296 util.util:256:enumerateWithEstimate E5 Validation  ----/71, done at 2023-06-05 01:03:00\n",
      "2023-06-05 01:03:00,205 INFO     pid:8296 p2_ct_project.p2ch13.training_luna_seg:486:logMetrics E5 SegmentationTrainingApp\n",
      "2023-06-05 01:03:00,206 INFO     pid:8296 p2_ct_project.p2ch13.training_luna_seg:509:logMetrics E5 val      0.9426 loss, 0.0261 precision, 0.8106 recall, 0.0505 f1 score\n",
      "2023-06-05 01:03:00,206 INFO     pid:8296 p2_ct_project.p2ch13.training_luna_seg:520:logMetrics E5 val_all  0.9426 loss,  81.1% tp,  18.9% fn,    3028.5% fp\n",
      "2023-06-05 01:03:00,218 INFO     pid:8296 p2_ct_project.p2ch13.training_luna_seg:580:saveModel Saved model params to models\\p2ch13\\data-unversioned\\seg_2023-06-05_00.46.03_final-seg.1500000.state\n",
      "2023-06-05 01:03:00,227 INFO     pid:8296 p2_ct_project.p2ch13.training_luna_seg:594:saveModel SHA1: e0c9337b82e75c82fc52a96eb22bca59386ac1e2\n",
      "2023-06-05 01:03:30,300 INFO     pid:8296 p2_ct_project.p2ch13.training_luna_seg:246:main Epoch 6 of 10, 18750/71 batches of size 16*1\n",
      "2023-06-05 01:03:30,483 WARNING  pid:8296 util.util:226:enumerateWithEstimate E6 Training  ----/18750, starting\n",
      "2023-06-05 01:03:55,559 INFO     pid:8296 util.util:243:enumerateWithEstimate E6 Training   256/18750, done at 2023-06-05 01:06:06, 0:02:12\n",
      "2023-06-05 01:04:08,242 INFO     pid:8296 util.util:243:enumerateWithEstimate E6 Training  2048/18750, done at 2023-06-05 01:06:06, 0:02:12\n",
      "2023-06-05 01:05:50,580 INFO     pid:8296 util.util:243:enumerateWithEstimate E6 Training  16384/18750, done at 2023-06-05 01:06:07, 0:02:13\n",
      "2023-06-05 01:06:10,194 WARNING  pid:8296 util.util:256:enumerateWithEstimate E6 Training  ----/18750, done at 2023-06-05 01:06:10\n",
      "2023-06-05 01:06:10,200 INFO     pid:8296 p2_ct_project.p2ch13.training_luna_seg:486:logMetrics E6 SegmentationTrainingApp\n",
      "2023-06-05 01:06:10,205 INFO     pid:8296 p2_ct_project.p2ch13.training_luna_seg:509:logMetrics E6 trn      0.2698 loss, 0.5496 precision, 0.9236 recall, 0.6892 f1 score\n",
      "2023-06-05 01:06:10,206 INFO     pid:8296 p2_ct_project.p2ch13.training_luna_seg:520:logMetrics E6 trn_all  0.2698 loss,  92.4% tp,   7.6% fn,      75.7% fp\n",
      "2023-06-05 01:06:10,209 INFO     pid:8296 p2_ct_project.p2ch13.training_luna_seg:246:main Epoch 7 of 10, 18750/71 batches of size 16*1\n",
      "2023-06-05 01:06:10,406 WARNING  pid:8296 util.util:226:enumerateWithEstimate E7 Training  ----/18750, starting\n",
      "2023-06-05 01:06:35,276 INFO     pid:8296 util.util:243:enumerateWithEstimate E7 Training   256/18750, done at 2023-06-05 01:08:45, 0:02:11\n",
      "2023-06-05 01:06:47,860 INFO     pid:8296 util.util:243:enumerateWithEstimate E7 Training  2048/18750, done at 2023-06-05 01:08:45, 0:02:11\n",
      "2023-06-05 01:08:29,520 INFO     pid:8296 util.util:243:enumerateWithEstimate E7 Training  16384/18750, done at 2023-06-05 01:08:46, 0:02:12\n",
      "2023-06-05 01:08:49,070 WARNING  pid:8296 util.util:256:enumerateWithEstimate E7 Training  ----/18750, done at 2023-06-05 01:08:49\n",
      "2023-06-05 01:08:49,075 INFO     pid:8296 p2_ct_project.p2ch13.training_luna_seg:486:logMetrics E7 SegmentationTrainingApp\n",
      "2023-06-05 01:08:49,081 INFO     pid:8296 p2_ct_project.p2ch13.training_luna_seg:509:logMetrics E7 trn      0.2655 loss, 0.5563 precision, 0.9241 recall, 0.6945 f1 score\n",
      "2023-06-05 01:08:49,082 INFO     pid:8296 p2_ct_project.p2ch13.training_luna_seg:520:logMetrics E7 trn_all  0.2655 loss,  92.4% tp,   7.6% fn,      73.7% fp\n",
      "2023-06-05 01:08:49,084 INFO     pid:8296 p2_ct_project.p2ch13.training_luna_seg:246:main Epoch 8 of 10, 18750/71 batches of size 16*1\n",
      "2023-06-05 01:08:49,279 WARNING  pid:8296 util.util:226:enumerateWithEstimate E8 Training  ----/18750, starting\n",
      "2023-06-05 01:09:13,834 INFO     pid:8296 util.util:243:enumerateWithEstimate E8 Training   256/18750, done at 2023-06-05 01:11:27, 0:02:15\n",
      "2023-06-05 01:09:26,613 INFO     pid:8296 util.util:243:enumerateWithEstimate E8 Training  2048/18750, done at 2023-06-05 01:11:25, 0:02:13\n",
      "2023-06-05 01:11:07,969 INFO     pid:8296 util.util:243:enumerateWithEstimate E8 Training  16384/18750, done at 2023-06-05 01:11:24, 0:02:12\n",
      "2023-06-05 01:11:27,775 WARNING  pid:8296 util.util:256:enumerateWithEstimate E8 Training  ----/18750, done at 2023-06-05 01:11:27\n",
      "2023-06-05 01:11:27,782 INFO     pid:8296 p2_ct_project.p2ch13.training_luna_seg:486:logMetrics E8 SegmentationTrainingApp\n",
      "2023-06-05 01:11:27,788 INFO     pid:8296 p2_ct_project.p2ch13.training_luna_seg:509:logMetrics E8 trn      0.2616 loss, 0.5621 precision, 0.9257 recall, 0.6995 f1 score\n",
      "2023-06-05 01:11:27,788 INFO     pid:8296 p2_ct_project.p2ch13.training_luna_seg:520:logMetrics E8 trn_all  0.2616 loss,  92.6% tp,   7.4% fn,      72.1% fp\n",
      "2023-06-05 01:11:27,791 INFO     pid:8296 p2_ct_project.p2ch13.training_luna_seg:246:main Epoch 9 of 10, 18750/71 batches of size 16*1\n",
      "2023-06-05 01:11:27,985 WARNING  pid:8296 util.util:226:enumerateWithEstimate E9 Training  ----/18750, starting\n",
      "2023-06-05 01:11:52,902 INFO     pid:8296 util.util:243:enumerateWithEstimate E9 Training   256/18750, done at 2023-06-05 01:14:10, 0:02:19\n",
      "2023-06-05 01:12:06,188 INFO     pid:8296 util.util:243:enumerateWithEstimate E9 Training  2048/18750, done at 2023-06-05 01:14:10, 0:02:19\n",
      "2023-06-05 01:13:51,841 INFO     pid:8296 util.util:243:enumerateWithEstimate E9 Training  16384/18750, done at 2023-06-05 01:14:09, 0:02:18\n",
      "2023-06-05 01:14:11,872 WARNING  pid:8296 util.util:256:enumerateWithEstimate E9 Training  ----/18750, done at 2023-06-05 01:14:11\n",
      "2023-06-05 01:14:11,879 INFO     pid:8296 p2_ct_project.p2ch13.training_luna_seg:486:logMetrics E9 SegmentationTrainingApp\n",
      "2023-06-05 01:14:11,885 INFO     pid:8296 p2_ct_project.p2ch13.training_luna_seg:509:logMetrics E9 trn      0.2579 loss, 0.5680 precision, 0.9266 recall, 0.7043 f1 score\n",
      "2023-06-05 01:14:11,885 INFO     pid:8296 p2_ct_project.p2ch13.training_luna_seg:520:logMetrics E9 trn_all  0.2579 loss,  92.7% tp,   7.3% fn,      70.5% fp\n",
      "2023-06-05 01:14:11,888 INFO     pid:8296 p2_ct_project.p2ch13.training_luna_seg:246:main Epoch 10 of 10, 18750/71 batches of size 16*1\n",
      "2023-06-05 01:14:12,086 WARNING  pid:8296 util.util:226:enumerateWithEstimate E10 Training  ----/18750, starting\n",
      "2023-06-05 01:14:37,437 INFO     pid:8296 util.util:243:enumerateWithEstimate E10 Training   256/18750, done at 2023-06-05 01:16:52, 0:02:16\n",
      "2023-06-05 01:14:50,300 INFO     pid:8296 util.util:243:enumerateWithEstimate E10 Training  2048/18750, done at 2023-06-05 01:16:50, 0:02:14\n",
      "2023-06-05 01:16:33,724 INFO     pid:8296 util.util:243:enumerateWithEstimate E10 Training  16384/18750, done at 2023-06-05 01:16:50, 0:02:15\n",
      "2023-06-05 01:16:53,644 WARNING  pid:8296 util.util:256:enumerateWithEstimate E10 Training  ----/18750, done at 2023-06-05 01:16:53\n",
      "2023-06-05 01:16:53,651 INFO     pid:8296 p2_ct_project.p2ch13.training_luna_seg:486:logMetrics E10 SegmentationTrainingApp\n",
      "2023-06-05 01:16:53,657 INFO     pid:8296 p2_ct_project.p2ch13.training_luna_seg:509:logMetrics E10 trn      0.2542 loss, 0.5730 precision, 0.9262 recall, 0.7080 f1 score\n",
      "2023-06-05 01:16:53,657 INFO     pid:8296 p2_ct_project.p2ch13.training_luna_seg:520:logMetrics E10 trn_all  0.2542 loss,  92.6% tp,   7.4% fn,      69.0% fp\n",
      "2023-06-05 01:16:53,660 WARNING  pid:8296 util.util:226:enumerateWithEstimate E10 Validation  ----/71, starting\n",
      "2023-06-05 01:17:23,986 INFO     pid:8296 util.util:243:enumerateWithEstimate E10 Validation    16/71, done at 2023-06-05 01:17:33, 0:00:10\n",
      "2023-06-05 01:17:36,402 INFO     pid:8296 util.util:243:enumerateWithEstimate E10 Validation    32/71, done at 2023-06-05 01:17:57, 0:00:35\n",
      "2023-06-05 01:18:05,149 INFO     pid:8296 util.util:243:enumerateWithEstimate E10 Validation    64/71, done at 2023-06-05 01:18:09, 0:00:47\n",
      "2023-06-05 01:18:09,503 WARNING  pid:8296 util.util:256:enumerateWithEstimate E10 Validation  ----/71, done at 2023-06-05 01:18:09\n",
      "2023-06-05 01:18:09,504 INFO     pid:8296 p2_ct_project.p2ch13.training_luna_seg:486:logMetrics E10 SegmentationTrainingApp\n",
      "2023-06-05 01:18:09,504 INFO     pid:8296 p2_ct_project.p2ch13.training_luna_seg:509:logMetrics E10 val      0.9440 loss, 0.0265 precision, 0.8056 recall, 0.0514 f1 score\n",
      "2023-06-05 01:18:09,505 INFO     pid:8296 p2_ct_project.p2ch13.training_luna_seg:520:logMetrics E10 val_all  0.9440 loss,  80.6% tp,  19.4% fn,    2955.1% fp\n",
      "2023-06-05 01:18:09,518 INFO     pid:8296 p2_ct_project.p2ch13.training_luna_seg:580:saveModel Saved model params to models\\p2ch13\\data-unversioned\\seg_2023-06-05_00.46.03_final-seg.3000000.state\n",
      "2023-06-05 01:18:09,527 INFO     pid:8296 p2_ct_project.p2ch13.training_luna_seg:594:saveModel SHA1: 9ed591589aef21d20f0153a008a4de984455f5c8\n",
      "2023-06-05 01:18:41,123 INFO     pid:8296 nb:021:run Finished: p2_ct_project.p2ch13.training_luna_seg.SegmentationTrainingApp.(['--num-workers=8', '--epochs=10', '--augmented', 'final-seg', '--datasetdir=E:/Luna16']).main()\n"
     ]
    }
   ],
   "source": [
    "datasetdir = 'E:/Luna16'\n",
    "seg_epochs = 10\n",
    "run('p2_ct_project.p2ch13.training_luna_seg.SegmentationTrainingApp', \n",
    "    f'--epochs={seg_epochs}', \n",
    "    '--augmented', \n",
    "    'final-seg', \n",
    "    f'--datasetdir={datasetdir}'\n",
    "    )"
   ]
  }
 ],
 "metadata": {
  "kernelspec": {
   "display_name": "Py39WorkingEnv",
   "language": "python",
   "name": "python3"
  },
  "language_info": {
   "codemirror_mode": {
    "name": "ipython",
    "version": 3
   },
   "file_extension": ".py",
   "mimetype": "text/x-python",
   "name": "python",
   "nbconvert_exporter": "python",
   "pygments_lexer": "ipython3",
   "version": "3.9.16"
  },
  "orig_nbformat": 4,
  "vscode": {
   "interpreter": {
    "hash": "d9820389ad8a433ddc70fa285b4cd1f6545163bdfc11cca0a88915fd8268595d"
   }
  }
 },
 "nbformat": 4,
 "nbformat_minor": 2
}
