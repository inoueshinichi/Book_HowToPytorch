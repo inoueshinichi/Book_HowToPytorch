{
 "cells": [
  {
   "attachments": {},
   "cell_type": "markdown",
   "metadata": {},
   "source": [
    "# Lunaモデルの学習"
   ]
  },
  {
   "attachments": {},
   "cell_type": "markdown",
   "metadata": {},
   "source": [
    "### Lunaサイト\n",
    "https://luna16.grand-challenge.org/Description/"
   ]
  },
  {
   "attachments": {},
   "cell_type": "markdown",
   "metadata": {},
   "source": [
    "### データセット概要\n",
    "アーカイブを展開した状態のすべてのデータで約220GBを必要とする.  \n",
    "+ annotations.csv\n",
    "+ candidates.csv\n",
    "+ sampleSubmission.csv\n",
    "+ candidates_V2.zip\n",
    "+ evaluationScript.zip\n",
    "+ seg-lungs-LUNA16.zip\n",
    "1. subset0.zip\n",
    "2. subset1.zip\n",
    "3. subset2.zip\n",
    "4. subset3.zip\n",
    "5. subset4.zip\n",
    "6. subset5.zip\n",
    "7. subset6.zip\n",
    "8. subset7.zip\n",
    "9. subset8.zip\n",
    "10. subset10.zip\n",
    "\n",
    "### subsetの中身\n",
    "+ series_uidをユニークIDとして*.mhdと*.rawの2種類のファイルがある"
   ]
  },
  {
   "cell_type": "code",
   "execution_count": 1,
   "metadata": {},
   "outputs": [],
   "source": [
    "\n",
    "import datetime\n",
    "from p2_ct_project.util.logconf import logging\n",
    "log = logging.getLogger('nb')\n",
    "# log.setLevel(logging.WARN)\n",
    "log.setLevel(logging.INFO)\n",
    "log.setLevel(logging.DEBUG)\n",
    "\n",
    "from p2_ct_project.util.util import importstr\n",
    "\n",
    "# run_everything\n",
    "def run(app, *argv):\n",
    "    argv = list(argv)\n",
    "    argv.insert(0, '--num-workers=8')\n",
    "    # 4コア8スレッドのCPUを仮定\n",
    "    log.info(\"Running: {}({!r}).main()\".format(app, argv))\n",
    "    print(\"*app.rsplit('.', 1) : \", *app.rsplit('.', 1))\n",
    "\n",
    "    app_cls = importstr(*app.rsplit('.', 1)) # __import__を実行\n",
    "    app_cls(argv).main()\n",
    "\n",
    "    log.info(\"Finished: {}.({!r}).main()\".format(app, argv))"
   ]
  },
  {
   "cell_type": "code",
   "execution_count": 2,
   "metadata": {},
   "outputs": [],
   "source": [
    "import os\n",
    "import shutil\n",
    "\n",
    "# clean up any old data that might be around.\n",
    "# We don't call this by default because it's destructive, \n",
    "# and would waste a lot of time if it ran when nothing \n",
    "# on the application side had changed.\n",
    "tag_version = \"unversioned\"\n",
    "cache_dir = f\"F:/Luna16/cache/{tag_version}\"\n",
    "def cleanCache():\n",
    "    shutil.rmtree(cache_dir)\n",
    "    os.mkdir(cache_dir)\n",
    "\n",
    "# cleanCache()"
   ]
  },
  {
   "attachments": {},
   "cell_type": "markdown",
   "metadata": {},
   "source": [
    "Fancacheのclose"
   ]
  },
  {
   "cell_type": "code",
   "execution_count": 3,
   "metadata": {},
   "outputs": [
    {
     "name": "stdout",
     "output_type": "stream",
     "text": [
      "module_parent_dir c:\\Users\\InoueShinichi\\Desktop\\MyGithub\\Book_HowToPytorch\\p2_ct_project\\p2ch10\\..\n"
     ]
    },
    {
     "name": "stderr",
     "output_type": "stream",
     "text": [
      "c:\\Users\\InoueShinichi\\anaconda3\\envs\\Py39WorkingEnv\\lib\\site-packages\\tqdm\\auto.py:22: TqdmWarning: IProgress not found. Please update jupyter and ipywidgets. See https://ipywidgets.readthedocs.io/en/stable/user_install.html\n",
      "  from .autonotebook import tqdm as notebook_tqdm\n"
     ]
    },
    {
     "name": "stdout",
     "output_type": "stream",
     "text": [
      "module_parent_dir c:\\Users\\InoueShinichi\\Desktop\\MyGithub\\Book_HowToPytorch\\p2_ct_project\\p2ch12\\..\n",
      "module_parent_dir c:\\Users\\InoueShinichi\\Desktop\\MyGithub\\Book_HowToPytorch\\p2_ct_project\\p2ch13\\..\n"
     ]
    }
   ],
   "source": [
    "from p2_ct_project.p2ch10.dataset_luna import raw_cache\n",
    "raw_cache.close()\n",
    "\n",
    "from p2_ct_project.p2ch12.mod_dataset_luna import raw_cache\n",
    "raw_cache.close()\n",
    "\n",
    "from p2_ct_project.p2ch13.dataset_luna_seg import raw_cache\n",
    "raw_cache.close()"
   ]
  },
  {
   "attachments": {},
   "cell_type": "markdown",
   "metadata": {},
   "source": [
    "### 各チャプターで共通の学習設定"
   ]
  },
  {
   "cell_type": "code",
   "execution_count": 4,
   "metadata": {},
   "outputs": [],
   "source": [
    "experiment_epochs = 2\n",
    "training_epochs = 20\n",
    "final_epochs = 50\n",
    "seg_epochs = 10"
   ]
  },
  {
   "attachments": {},
   "cell_type": "markdown",
   "metadata": {},
   "source": [
    "# Chapter11"
   ]
  },
  {
   "attachments": {},
   "cell_type": "markdown",
   "metadata": {},
   "source": [
    "### デフォルト設定で学習"
   ]
  },
  {
   "cell_type": "code",
   "execution_count": 5,
   "metadata": {},
   "outputs": [],
   "source": [
    "# run('p2_ct_project.p2ch11.prepcache_luna.LunaPrepCacheApp', '--datasetdir=E:/Luna16')"
   ]
  },
  {
   "cell_type": "code",
   "execution_count": 6,
   "metadata": {},
   "outputs": [],
   "source": [
    "# run('p2_ct_project.p2ch11.training_luna.LunaTrainingApp', '--datasetdir=E:/Luna16', '--epochs=1')"
   ]
  },
  {
   "attachments": {},
   "cell_type": "markdown",
   "metadata": {},
   "source": [
    "# Chapter12\n",
    "+ 陽性サンプルと陰性サンプルの均一化"
   ]
  },
  {
   "attachments": {},
   "cell_type": "markdown",
   "metadata": {},
   "source": [
    "## 結節データをかさ増しする\n",
    "+ LunaDatasetの結節候補データは, 結節でないデータと結節データの比率が均等でない\n",
    "\n",
    "### 課題\n",
    "+ ラベルが均等でないデータセットでは, 学習時にデータ比率が大きいラベル側にNNモデルが引っ張られ, 推論でデータ比率の大きなラベルばかりを推論結果として出力してしまう.\n",
    "\n",
    "### 解決策\n",
    "1. 学習時は, 各ラベルのデータ数を均等にする. \n",
    "2. 損失関数で, 比率の小さいラベルデータに対して更新勾配(誤差)を大きくする処理を追加する\n",
    "\n",
    "#### 今回は比率の小さいラベルデータをかさ増しする"
   ]
  },
  {
   "attachments": {},
   "cell_type": "markdown",
   "metadata": {},
   "source": [
    "### 結節データ(比率の小さいラベルデータ)のかさ増しをする方法\n",
    "1. PytorchのDataLoader関数の`sampler=...`オプションを使用する方法. <br> データセットの元々のイテレーション順序を上書きすることができ, <br> 特定のサンプルの抽出を制限したり, 逆に複数回抽出することが可能. これはデータセット自体をコントロールできない場合に非常に有効.\n",
    "2. 直接データセットをコントロールできる場合, Datasetクラスのサブクラスの中で, 必要となるデータを再構成して, かさ増しする."
   ]
  },
  {
   "attachments": {},
   "cell_type": "markdown",
   "metadata": {},
   "source": [
    "### データセット内でクラスバランスを調整する\n",
    "+ LunaDataset内に追加の実装を行い, 訓練セットの陽性サンプル数と陰性サンプル数が1対1になるように変更する"
   ]
  },
  {
   "cell_type": "code",
   "execution_count": 7,
   "metadata": {},
   "outputs": [],
   "source": [
    "# run('p2_ct_project.p2ch12.prepcache_luna.LunaPrepCacheApp', '--datasetdir=E:/Luna16')"
   ]
  },
  {
   "cell_type": "code",
   "execution_count": 8,
   "metadata": {},
   "outputs": [],
   "source": [
    "# run('p2_ct_project.p2ch12.mod_training_luna.LunatrainingApp', '--datasetdir=E:/Luna16', '--epochs=1', 'unbalanced')"
   ]
  },
  {
   "cell_type": "code",
   "execution_count": 9,
   "metadata": {},
   "outputs": [],
   "source": [
    "# データサンプルの調整\n",
    "# run('p2_ct_project.p2ch12.mod_training_luna.LunaTrainingApp', '--datasetdir=E:/Luna16', f'--epochs=1', '--balanced', 'balanced')"
   ]
  },
  {
   "cell_type": "code",
   "execution_count": 10,
   "metadata": {},
   "outputs": [],
   "source": [
    "# import numpy as np\n",
    "# a = np.empty((1, 100), dtype=np.float32) > 0.5\n",
    "# print(a)\n",
    "# ans = np.sum(a)\n",
    "# print(ans)"
   ]
  },
  {
   "attachments": {},
   "cell_type": "markdown",
   "metadata": {},
   "source": [
    "### データ拡張の結果を比較する"
   ]
  },
  {
   "cell_type": "code",
   "execution_count": 11,
   "metadata": {},
   "outputs": [],
   "source": [
    "# データサンプルの調整\n",
    "# run('p2_ct_project.p2ch12.mod_training_luna.LunaTrainingApp', '--datasetdir=E:/Luna16', f'--epochs={training_epochs}', '--balanced', 'balanced')"
   ]
  },
  {
   "cell_type": "code",
   "execution_count": 12,
   "metadata": {},
   "outputs": [],
   "source": [
    "# データ拡張　フリップ\n",
    "# run('p2_ct_project.p2ch12.mod_training_luna.LunaTrainingApp', f'--epochs={training_epochs}', '--balanced', '--augment-flip', 'flip')"
   ]
  },
  {
   "cell_type": "code",
   "execution_count": 13,
   "metadata": {},
   "outputs": [],
   "source": [
    "# データ拡張 平行移動\n",
    "# run('p2_ct_project.p2ch12.mod_training_luna.LunaTrainingApp', f'--epochs={training_epochs}', '--balanced', '--augment-offset', 'offset')"
   ]
  },
  {
   "cell_type": "code",
   "execution_count": 14,
   "metadata": {},
   "outputs": [],
   "source": [
    "# データ拡張 スケール\n",
    "# run('p2_ct_project.p2ch12.mod_training_luna.LunaTrainingApp', f'--epochs={training_epochs}', '--balanced', '--augment-scale', 'scale')"
   ]
  },
  {
   "cell_type": "code",
   "execution_count": 15,
   "metadata": {},
   "outputs": [],
   "source": [
    "# データ拡張　回転\n",
    "# run('p2_ct_project.p2ch12.mod_training_luna.LunaTrainingApp', f'--epochs={training_epochs}', '--balanced', '--augment-rotate', 'rotate')"
   ]
  },
  {
   "cell_type": "code",
   "execution_count": 16,
   "metadata": {},
   "outputs": [],
   "source": [
    "# データ拡張　ノイズ付加\n",
    "# run('p2_ct_project.p2ch12.mod_training_luna.LunaTrainingApp', f'--epochs={training_epochs}', '--balanced', '--augment-noise', 'noise')"
   ]
  },
  {
   "cell_type": "code",
   "execution_count": 17,
   "metadata": {},
   "outputs": [],
   "source": [
    "# データ拡張　フリップ, 平行移動, スケール, 回転, ノイズ付加\n",
    "# run('p2_ct_project.p2ch12.mod_training_luna.LunaTrainingApp', f'--epochs={training_epochs}', '--balanced', '--augmented', 'fully-augmented')"
   ]
  },
  {
   "attachments": {},
   "cell_type": "markdown",
   "metadata": {},
   "source": [
    "# Chapter13"
   ]
  },
  {
   "attachments": {},
   "cell_type": "markdown",
   "metadata": {},
   "source": [
    "セマンティックセグメンテーションモデルによる結節候補の推論"
   ]
  },
  {
   "cell_type": "code",
   "execution_count": 18,
   "metadata": {},
   "outputs": [],
   "source": [
    "# 加工データセットのキャッシュを作成\n",
    "# run('p2_ct_project.p2ch13.prepcache_luna_seg.LunaSegPrepCacheApp')"
   ]
  },
  {
   "cell_type": "code",
   "execution_count": 19,
   "metadata": {},
   "outputs": [],
   "source": [
    "# datasetdir = 'E:/Luna16'\n",
    "# run('p2_ct_project.p2ch13.training_luna_seg.SegmentationTrainingApp', \n",
    "#     f'--epochs={experiment_epochs}', \n",
    "#     '--augmented', \n",
    "#     f'--datasetdir={datasetdir}'\n",
    "#     )"
   ]
  },
  {
   "cell_type": "code",
   "execution_count": 20,
   "metadata": {},
   "outputs": [],
   "source": [
    "# datasetdir = 'E:/Luna16'\n",
    "# seg_epochs = 10\n",
    "# run('p2_ct_project.p2ch13.training_luna_seg.SegmentationTrainingApp', \n",
    "#     f'--epochs={seg_epochs}', \n",
    "#     '--augmented', \n",
    "#     'final-seg', \n",
    "#     f'--datasetdir={datasetdir}'\n",
    "#     )"
   ]
  },
  {
   "attachments": {},
   "cell_type": "markdown",
   "metadata": {},
   "source": [
    "# Chapter14"
   ]
  },
  {
   "attachments": {},
   "cell_type": "markdown",
   "metadata": {},
   "source": [
    "EndtoEnd推論システムの統合"
   ]
  },
  {
   "cell_type": "code",
   "execution_count": 21,
   "metadata": {},
   "outputs": [
    {
     "name": "stderr",
     "output_type": "stream",
     "text": [
      "2023-06-19 21:09:10,421 INFO     pid:18412 nb:015:run Running: p2_ct_project.p2ch14.prepcache_luna_end_to_end.LunaPrepCacheApp(['--num-workers=8', '--datasetdir=E:/Luna16']).main()\n"
     ]
    },
    {
     "name": "stdout",
     "output_type": "stream",
     "text": [
      "*app.rsplit('.', 1) :  p2_ct_project.p2ch14.prepcache_luna_end_to_end LunaPrepCacheApp\n",
      "module_parent_dir c:\\Users\\InoueShinichi\\Desktop\\MyGithub\\Book_HowToPytorch\\p2_ct_project\\p2ch14\\..\n",
      "module_parent_dir c:\\Users\\InoueShinichi\\Desktop\\MyGithub\\Book_HowToPytorch\\p2_ct_project\\p2ch10\\..\\p2ch14\\..\n"
     ]
    },
    {
     "name": "stderr",
     "output_type": "stream",
     "text": [
      "2023-06-19 21:09:10,821 INFO     pid:18412 p2_ct_project.p2ch14.prepcache_luna_end_to_end:060:main Starting LunaPrepCacheApp, Namespace(batch_size=1024, num_workers=8, datasetdir='E:/Luna16')\n"
     ]
    },
    {
     "name": "stdout",
     "output_type": "stream",
     "text": [
      "module_parent_dir c:\\Users\\InoueShinichi\\Desktop\\MyGithub\\Book_HowToPytorch\\p2_ct_project\\p2ch10\\..\\p2ch11\\..\n",
      "module:  <module 'p2_ct_project' (namespace)>\n"
     ]
    },
    {
     "name": "stderr",
     "output_type": "stream",
     "text": [
      "2023-06-19 21:09:14,874 INFO     pid:18412 p2ch14.dataset_luna_end_to_end:449:__init__ <p2ch14.dataset_luna_end_to_end.LunaDataset object at 0x0000028B387A58E0>: 550896 training samples, 549714 neg, 1182 pos, unbalanced ratio\n",
      "2023-06-19 21:09:14,875 WARNING  pid:18412 util.util:226:enumerateWithEstimate Stuffing cache ----/538, starting\n",
      "2023-06-19 21:11:30,166 INFO     pid:18412 util.util:243:enumerateWithEstimate Stuffing cache   64/538, done at 2023-06-19 21:24:21, 0:14:24\n",
      "2023-06-19 21:16:46,685 INFO     pid:18412 util.util:243:enumerateWithEstimate Stuffing cache  256/538, done at 2023-06-19 21:24:28, 0:14:31\n",
      "2023-06-19 21:30:19,315 WARNING  pid:18412 util.util:256:enumerateWithEstimate Stuffing cache ----/538, done at 2023-06-19 21:30:19\n",
      "2023-06-19 21:30:19,362 INFO     pid:18412 nb:021:run Finished: p2_ct_project.p2ch14.prepcache_luna_end_to_end.LunaPrepCacheApp.(['--num-workers=8', '--datasetdir=E:/Luna16']).main()\n"
     ]
    }
   ],
   "source": [
    "datasetdir = 'E:/Luna16'\n",
    "run('p2_ct_project.p2ch14.prepcache_luna_end_to_end.LunaPrepCacheApp',\n",
    "    f'--datasetdir={datasetdir}',\n",
    "    )"
   ]
  },
  {
   "cell_type": "code",
   "execution_count": 22,
   "metadata": {},
   "outputs": [],
   "source": [
    "# ch14_epochs = 10\n",
    "# run('p2_ct_preject.p2ch14.training_luna_end_to_end.ClassificationTrainingApp', \n",
    "#     f'--datasetdir={datasetdir}',\n",
    "#     f'--epochs={ch14_epochs}', \n",
    "#     'nodule-nonnodule',\n",
    "#     )"
   ]
  },
  {
   "attachments": {},
   "cell_type": "markdown",
   "metadata": {},
   "source": [
    "ファインチューニング (only head_linear)"
   ]
  },
  {
   "cell_type": "code",
   "execution_count": 23,
   "metadata": {},
   "outputs": [],
   "source": [
    "# model_weight_path = 'models/'\n",
    "# run('p2_ct_project.p2ch14.training_luna_end_to_end.ClassificationTrainingApp',\n",
    "#     f'--dateasetdir={datasetdir}',\n",
    "#     f'--epochs={ch14_epochs}',\n",
    "#     '--malignant',\n",
    "#     '--dataset=MalignantLunaDataset',\n",
    "#     f'finetune={model_weight_path}',\n",
    "#     'finetune-head',\n",
    "#     )"
   ]
  },
  {
   "attachments": {},
   "cell_type": "markdown",
   "metadata": {},
   "source": [
    "ファインチューニング (head_linear and last conv)"
   ]
  },
  {
   "cell_type": "code",
   "execution_count": 24,
   "metadata": {},
   "outputs": [],
   "source": [
    "# run('p2_ct_project.p2ch14.training_luna_end_to_end.ClassificationTrainingApp',\n",
    "#     f'--dateasetdir={datasetdir}',\n",
    "#     f'--epochs={ch14_epochs}',\n",
    "#     '--malignant',\n",
    "#     '--dataset=MalignantLunaDataset',\n",
    "#     f'finetune={model_weight_path}',\n",
    "#     'finetune-depth2',\n",
    "# )"
   ]
  },
  {
   "attachments": {},
   "cell_type": "markdown",
   "metadata": {},
   "source": [
    "EndtoEndな結節検出システム"
   ]
  },
  {
   "cell_type": "code",
   "execution_count": 25,
   "metadata": {},
   "outputs": [],
   "source": [
    "# run('p2_ct_project.p2ch14.nodule_analysis.NoduleAnalysisApp',\n",
    "#     f'--datasetdir={datasetdir}',\n",
    "#     '--run-validation',\n",
    "#     )"
   ]
  },
  {
   "attachments": {},
   "cell_type": "markdown",
   "metadata": {},
   "source": [
    "EndtoEndな悪性腫瘍検出システム"
   ]
  },
  {
   "cell_type": "code",
   "execution_count": 26,
   "metadata": {},
   "outputs": [],
   "source": [
    "# run('p2_ct_project.p2ch14.nodule_analysis.NoduleAnalysisApp',\n",
    "#     f'--datasetdir={datasetdir}',\n",
    "#     '--run-validation',\n",
    "#     '--malignancy-path',\n",
    "#     )\n"
   ]
  }
 ],
 "metadata": {
  "kernelspec": {
   "display_name": "Py39WorkingEnv",
   "language": "python",
   "name": "python3"
  },
  "language_info": {
   "codemirror_mode": {
    "name": "ipython",
    "version": 3
   },
   "file_extension": ".py",
   "mimetype": "text/x-python",
   "name": "python",
   "nbconvert_exporter": "python",
   "pygments_lexer": "ipython3",
   "version": "3.9.16"
  },
  "orig_nbformat": 4,
  "vscode": {
   "interpreter": {
    "hash": "d9820389ad8a433ddc70fa285b4cd1f6545163bdfc11cca0a88915fd8268595d"
   }
  }
 },
 "nbformat": 4,
 "nbformat_minor": 2
}
